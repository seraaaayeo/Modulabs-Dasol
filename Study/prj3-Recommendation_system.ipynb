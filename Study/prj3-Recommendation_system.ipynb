{
 "cells": [
  {
   "cell_type": "markdown",
   "metadata": {},
   "source": [
    "# 콘텐츠 추천 알고리즘\n",
    "### 고전적 추천 시스템\n",
    "* 협업 필터링 : 사용자가 선호할 만한 아이템을 추측함으로써 사용자에게 적합한 특정 항목을 선택하여 제공하는 시스템\n",
    "    * 다수의 사용자가 아이템을 구매한 이력 정보만으로 사용자간 유사성 및 아이템간 유사성을 파악\n",
    "    * 아이템과 사용자 간의 행동 또는 관계에만 주목\n",
    "    *  결과가 직관적이며 항목의 구체적인 내용을 분석할 필요가 없다\n",
    "    *  비슷한 패턴을 가진 사용자나 항목을 추출하는 기술이 핵심적이며 행렬분해(Matrix Factorization), k-최근접 이웃 알고리즘 (k-Nearest Neighbor algorithm; kNN) 등의 방법이 많이 사용됨.\n",
    "* 콘텐츠 기반 필터링 : 항목 자체를 분석하여 추천을 구현. 항목을 분석한 프로파일(item profile)과 사용자의 선호도를 추출한 프로파일(user profile)을 추출하여 이의 유사성을 계산한다.\n",
    "    * 아이템의 고유의 정보를 바탕으로 아이템간 유사성을 파악\n",
    "    * 아이템 자체의 속성에 주목\n",
    "    *  콘텐츠의 내용을 분석해야 하므로 아이템 분석 알고리즘이 핵심적이며, 이를 위해 군집분석(Clustering analysis), 인공신경망(Artificial neural network), tf-idf(term frequencyinverse document frequency) 등의 기술이 사용된다\n",
    "\n",
    "### 협업 필터링의 제약\n",
    "협업 필터링은 세 가지 제약 조건이 있다.\n",
    "\n",
    "* Cold Start : 시스템이 충분한 정보를 모으지 못한 사용자나 아이템에 대한 추론을 할 수 없는 상태\n",
    "* 계산량이 너무 많아 추천의 효율이 떨어지는 상황\n",
    "* 롱테일의 꼬리 부분, 즉 사용자의 관심이 저조한 항목의 정보가 부족하여 추천에서 배제되는 상황"
   ]
  },
  {
   "cell_type": "markdown",
   "metadata": {},
   "source": [
    "## 데이터 준비\n",
    "### `tar`\n",
    "```\n",
    "wget http://mtg.upf.edu/static/datasets/last.fm/lastfm-dataset-360K.tar.gz\n",
    "gunzip lastfm-dataset-360K.tar.gz\n",
    "tar -xvf lastfm-dataset-360K.tar\n",
    "```\n",
    "* tar.gz 파일 압축 해제 : `gunzip` -> `tar`\n",
    "* gunzip과 tar는 `tar -xvzf` 옵션으로 한꺼번에 처리 가능하다.\n",
    "* `-zxvf`: gzip으로 압출된 tar 아카이브 풀기\n",
    "* `-xvf`: tar 아카이브를 현재 디렉토리에 풀기\n",
    "* `-xvf -C ./path`: tar 아카이브를 지정된 디렉토리에 풀기\n",
    "* [기타 내용확인](https://recipes4dev.tistory.com/146)\n",
    "\n",
    "### tsv\n",
    "`tsv`: Tab-Separated Values. tab('\\t') 문자를 이용하여 텍스트를 구분한다.\n",
    "\n",
    "* pandas의 `read_csv`로 파싱 가능."
   ]
  },
  {
   "cell_type": "code",
   "execution_count": null,
   "metadata": {},
   "outputs": [],
   "source": []
  }
 ],
 "metadata": {
  "kernelspec": {
   "display_name": "Python 3",
   "language": "python",
   "name": "python3"
  },
  "language_info": {
   "codemirror_mode": {
    "name": "ipython",
    "version": 3
   },
   "file_extension": ".py",
   "mimetype": "text/x-python",
   "name": "python",
   "nbconvert_exporter": "python",
   "pygments_lexer": "ipython3",
   "version": "3.7.9"
  }
 },
 "nbformat": 4,
 "nbformat_minor": 4
}
