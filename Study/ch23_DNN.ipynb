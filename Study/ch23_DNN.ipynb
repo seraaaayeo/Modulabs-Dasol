{
 "cells": [
  {
   "cell_type": "markdown",
   "metadata": {},
   "source": [
    "## 신경망이란?\n",
    "뇌가 신호(정보)를 처리하는 과정 : '뉴런'을 이용한 전달, 뉴런에서 다음 뉴런으로 전달될 때 기준치(역치)에 따라 다음 뉴런으로 전달될지 말지가 결정됨.\n",
    "* 이러한 인류의 신경망 구조를 본따 `Perceptron`이 만들어졌다.\n",
    "* Perceptron이 `deep`해졌을 때 Artificial Neural Network라고 부른다.\n",
    "* 즉, NN은 뇌의 복잡한 구조(`deep`)와 기준치(`Activation`)을 모방하였다."
   ]
  },
  {
   "cell_type": "markdown",
   "metadata": {},
   "source": [
    "## MNIST Recap\n",
    "MNIST를 CNN이 아닌 MLP(Multi-Layer Perceptron)으로 구현."
   ]
  },
  {
   "cell_type": "code",
   "execution_count": 1,
   "metadata": {},
   "outputs": [
    {
     "name": "stdout",
     "output_type": "stream",
     "text": [
      "(60000, 28, 28)\n",
      "(60000, 784)\n",
      "Model: \"sequential\"\n",
      "_________________________________________________________________\n",
      "Layer (type)                 Output Shape              Param #   \n",
      "=================================================================\n",
      "dense (Dense)                (None, 50)                39250     \n",
      "_________________________________________________________________\n",
      "dense_1 (Dense)              (None, 10)                510       \n",
      "=================================================================\n",
      "Total params: 39,760\n",
      "Trainable params: 39,760\n",
      "Non-trainable params: 0\n",
      "_________________________________________________________________\n",
      "Epoch 1/10\n",
      "1875/1875 [==============================] - 2s 987us/step - loss: 0.4856 - accuracy: 0.8846\n",
      "Epoch 2/10\n",
      "1875/1875 [==============================] - 2s 1ms/step - loss: 0.2285 - accuracy: 0.9362\n",
      "Epoch 3/10\n",
      "1875/1875 [==============================] - 2s 903us/step - loss: 0.1774 - accuracy: 0.9502\n",
      "Epoch 4/10\n",
      "1875/1875 [==============================] - 2s 869us/step - loss: 0.1465 - accuracy: 0.9584\n",
      "Epoch 5/10\n",
      "1875/1875 [==============================] - 2s 859us/step - loss: 0.1261 - accuracy: 0.9640\n",
      "Epoch 6/10\n",
      "1875/1875 [==============================] - 2s 911us/step - loss: 0.1109 - accuracy: 0.9690\n",
      "Epoch 7/10\n",
      "1875/1875 [==============================] - 2s 880us/step - loss: 0.0991 - accuracy: 0.9722\n",
      "Epoch 8/10\n",
      "1875/1875 [==============================] - 2s 871us/step - loss: 0.0890 - accuracy: 0.9750\n",
      "Epoch 9/10\n",
      "1875/1875 [==============================] - 2s 886us/step - loss: 0.0808 - accuracy: 0.9775\n",
      "Epoch 10/10\n",
      "1875/1875 [==============================] - 2s 913us/step - loss: 0.0742 - accuracy: 0.9795\n",
      "313/313 - 0s - loss: 0.1025 - accuracy: 0.9681\n",
      "test_loss: 0.10253355652093887 \n",
      "test_accuracy: 0.9681000113487244\n"
     ]
    }
   ],
   "source": [
    "import tensorflow as tf\n",
    "from tensorflow import keras\n",
    "import numpy as np\n",
    "import matplotlib.pyplot as plt\n",
    "\n",
    "mnist = keras.datasets.mnist\n",
    "(x_train, y_train), (x_test, y_test) = mnist.load_data()   \n",
    "\n",
    "# 모델에 맞게 데이터 가공\n",
    "x_train_norm, x_test_norm = x_train / 255.0, x_test / 255.0\n",
    "x_train_reshaped = x_train_norm.reshape(-1, x_train_norm.shape[1]*x_train_norm.shape[2])\n",
    "x_test_reshaped = x_test_norm.reshape(-1, x_test_norm.shape[1]*x_test_norm.shape[2])\n",
    "print(x_train.shape)\n",
    "print(x_train_reshaped.shape)\n",
    "\n",
    "# 딥러닝 모델 구성 - 2 Layer Perceptron\n",
    "model=keras.models.Sequential()\n",
    "model.add(keras.layers.Dense(50, activation='sigmoid', input_shape=(784,)))  # 입력층 d=784, 은닉층 레이어 H=50\n",
    "model.add(keras.layers.Dense(10, activation='softmax'))   # 출력층 레이어 K=10\n",
    "model.summary()\n",
    "\n",
    "# 모델 구성과 학습\n",
    "model.compile(optimizer='adam',\n",
    "             loss='sparse_categorical_crossentropy',\n",
    "             metrics=['accuracy'])\n",
    "model.fit(x_train_reshaped, y_train, epochs=10)\n",
    "\n",
    "# 모델 테스트 결과\n",
    "test_loss, test_accuracy = model.evaluate(x_test_reshaped,y_test, verbose=2)\n",
    "print(\"test_loss: {} \".format(test_loss))\n",
    "print(\"test_accuracy: {}\".format(test_accuracy))"
   ]
  },
  {
   "cell_type": "markdown",
   "metadata": {},
   "source": [
    "## Parameters\n",
    "Input layer - Hidden layer - Output layer 사이에는 `Matrix`가 존재한다.\n",
    "* 입력값이 100개, Hidden units이 20개라면 matrix는 (`100X20`)\n",
    "* **입력값 = input features**\n",
    "* **Output units = Class의 개수**\n",
    "    * MNIST의 경우 0~9까지의 손글씨를 맞추기 위한 10개의 class를 갖는다. 따라서 Output layer의 노드 개수도 10개여야 한다."
   ]
  },
  {
   "cell_type": "code",
   "execution_count": 2,
   "metadata": {},
   "outputs": [
    {
     "name": "stdout",
     "output_type": "stream",
     "text": [
      "(60000, 784)\n",
      "(5, 784)\n"
     ]
    }
   ],
   "source": [
    "# 입력층 데이터의 모양(shape)\n",
    "print(x_train_reshaped.shape)\n",
    "\n",
    "# 테스트를 위해 x_train_reshaped의 앞 5개의 데이터를 가져온다.\n",
    "X = x_train_reshaped[:5]\n",
    "print(X.shape)"
   ]
  },
  {
   "cell_type": "code",
   "execution_count": 3,
   "metadata": {},
   "outputs": [
    {
     "name": "stdout",
     "output_type": "stream",
     "text": [
      "(784, 50)\n",
      "(50,)\n",
      "(5, 50)\n"
     ]
    }
   ],
   "source": [
    "weight_init_std = 0.1\n",
    "input_size = 784\n",
    "hidden_size=50\n",
    "\n",
    "# 인접 레이어간 관계를 나타내는 파라미터 W를 생성하고 random 초기화\n",
    "W1 = weight_init_std * np.random.randn(input_size, hidden_size)  \n",
    "# 바이어스 파라미터 b를 생성하고 Zero로 초기화\n",
    "b1 = np.zeros(hidden_size)\n",
    "\n",
    "a1 = np.dot(X, W1) + b1   # 은닉층 출력\n",
    "\n",
    "print(W1.shape)\n",
    "print(b1.shape)\n",
    "print(a1.shape)"
   ]
  },
  {
   "cell_type": "markdown",
   "metadata": {},
   "source": [
    "* Weight는 random 초기화한다.\n",
    "* Bias는 0으로 초기화한다."
   ]
  },
  {
   "cell_type": "code",
   "execution_count": 4,
   "metadata": {},
   "outputs": [
    {
     "data": {
      "text/plain": [
       "array([-1.12831986,  0.34757652, -0.81301709,  2.0460106 ,  0.75304647,\n",
       "       -0.03662706,  0.48098521, -0.8799753 ,  0.92093218, -0.52273404,\n",
       "        0.07658515,  0.52664203, -0.88749939, -0.17171376, -0.66168775,\n",
       "       -0.5954174 , -0.36591207, -1.59778276, -0.38993008,  0.05776485,\n",
       "       -0.29032406,  0.03750873, -1.48661119, -1.66072379,  0.01230781,\n",
       "       -1.71820746, -0.54095696,  1.18472006,  1.53210678,  0.69532812,\n",
       "       -0.17996927, -1.89194452,  2.32141671, -1.00209592,  0.80715389,\n",
       "       -1.59161504, -0.53183858, -1.03156617, -0.00655425, -1.85682022,\n",
       "        2.84724928, -0.1623452 , -0.50999526, -0.28819892, -1.15618421,\n",
       "        0.23364065,  0.65463123,  0.43204832, -1.13997936, -1.25071436])"
      ]
     },
     "execution_count": 4,
     "metadata": {},
     "output_type": "execute_result"
    }
   ],
   "source": [
    "# 첫번째 데이터의 Hidden layer 출력\n",
    "a1[1]"
   ]
  },
  {
   "cell_type": "markdown",
   "metadata": {},
   "source": [
    "## Activation function\n",
    "활성화 함수는 보통 비선형 함수를 사용합니다. 그리고 이 비선형 함수를 MLP 안에 포함시키면서 모델의 표현력이 좋아지게 됩니다. (정확히는 이 비선형 함수가 포함되지 않으면 한 층을 가진 MLP와 다른 점이 없습니다.)\n",
    "* Activation function : 신호를 다음 노드로 전달할지 말지를 결정하는 기준.\n",
    "* 종류로는 sigmoid, tanh, ReLU가 있다."
   ]
  },
  {
   "cell_type": "markdown",
   "metadata": {},
   "source": [
    "### Sigmoid\n",
    "* 0 < y < 1\n",
    "* Gradient Vanising 현상 발생\n",
    "    * sigmoid 함수를 미분하면 최댓값이 0.25인 종 모양 함수\n",
    "    * 따라서 네트워크가 깊어질수록 gradient가 0에 수렴한다.\n",
    "* exp 함수를 사용해야 하므로 비용이 크다."
   ]
  },
  {
   "cell_type": "code",
   "execution_count": 5,
   "metadata": {},
   "outputs": [
    {
     "name": "stdout",
     "output_type": "stream",
     "text": [
      "[0.30291534 0.44216793 0.49734126 0.90439522 0.61115838 0.60334965\n",
      " 0.6519585  0.64564723 0.6183623  0.55413041 0.63504549 0.38184895\n",
      " 0.54433687 0.20812708 0.50532092 0.35982128 0.3933777  0.38974585\n",
      " 0.20156665 0.73687565 0.21559446 0.66738357 0.38874714 0.23166733\n",
      " 0.29512427 0.2952574  0.59110883 0.49975218 0.46640569 0.55968207\n",
      " 0.25433403 0.11184761 0.69451557 0.2750759  0.77406099 0.22735713\n",
      " 0.34128596 0.60039114 0.18518251 0.10241665 0.90851238 0.59558342\n",
      " 0.55874138 0.34120135 0.59559928 0.30798125 0.37463389 0.6286468\n",
      " 0.28487678 0.48928369]\n"
     ]
    }
   ],
   "source": [
    "# sigmoid : 모든 출력이 0에서 1 사이에 있다.\n",
    "def sigmoid(x):\n",
    "    return 1 / (1 + np.exp(-x))  \n",
    "\n",
    "\n",
    "z1 = sigmoid(a1)\n",
    "print(z1[0])  # sigmoid의 출력은 모든 엘리먼트가 0에서 1사이"
   ]
  },
  {
   "cell_type": "markdown",
   "metadata": {},
   "source": [
    "### Tanh\n",
    "* -1 < y < 1\n",
    "* x의 중심값이 0이므로 sigmoid의 최적화 과정이 느려지는 것을 개선하였다.\n",
    "* sigmoid보다는 낫지만, 여전히 gradient vanising 문제가 존재한다.\n",
    "    * 도함수는 최댓값이 1인 종모양\n",
    "\n",
    "### ReLU(Rectified Linear Unit)\n",
    "```f(x) = max(0,x)```\n",
    "* 학습이 빠르다.\n",
    "* 연산 비용이 크지 않고, 구현이 매우 간단하다.\n",
    "* 값이 0인지 x인지를 가르는 x값(기준치)를 `bias`라고 한다."
   ]
  },
  {
   "cell_type": "code",
   "execution_count": 6,
   "metadata": {},
   "outputs": [],
   "source": [
    "def affine_layer_forward(X, W, b):\n",
    "    y = np.dot(X, W) + b\n",
    "    cache = (X, W, b)\n",
    "    return y, cache"
   ]
  },
  {
   "cell_type": "code",
   "execution_count": 7,
   "metadata": {},
   "outputs": [
    {
     "name": "stdout",
     "output_type": "stream",
     "text": [
      "(50, 10)\n",
      "(10,)\n",
      "[-0.52482879 -0.44454289  0.51597302  0.36153058  0.51744031 -0.5423958\n",
      "  0.02821237 -0.14005742  0.30282657  0.62381208]\n",
      "(5, 50)\n",
      "(5, 10)\n"
     ]
    }
   ],
   "source": [
    "input_size = 784\n",
    "hidden_size = 50\n",
    "output_size = 10\n",
    "\n",
    "W1 = weight_init_std * np.random.randn(input_size, hidden_size)\n",
    "b1 = np.zeros(hidden_size)\n",
    "W2 = weight_init_std * np.random.randn(hidden_size, output_size)\n",
    "b2 = np.zeros(output_size)\n",
    "\n",
    "a1, cache1 = affine_layer_forward(X, W1, b1)\n",
    "z1 = sigmoid(a1)\n",
    "a2, cache2 = affine_layer_forward(z1, W2, b2)# z1이 두번째 레이어의 입력 \n",
    "\n",
    "print(W2.shape)\n",
    "print(b2.shape)\n",
    "print(a2[0])  # 최종 출력이 output_size만큼의 벡터\n",
    "print(a1.shape)\n",
    "print(a2.shape)"
   ]
  },
  {
   "cell_type": "code",
   "execution_count": 8,
   "metadata": {},
   "outputs": [],
   "source": [
    "def softmax(x):\n",
    "    if x.ndim == 2:\n",
    "        x = x.T\n",
    "        x = x - np.max(x, axis=0)\n",
    "        y = np.exp(x) / np.sum(np.exp(x), axis=0)\n",
    "        return y.T \n",
    "\n",
    "    x = x - np.max(x) # 오버플로 대책\n",
    "    return np.exp(x) / np.sum(np.exp(x))"
   ]
  },
  {
   "cell_type": "code",
   "execution_count": 9,
   "metadata": {},
   "outputs": [
    {
     "data": {
      "text/plain": [
       "array([0.05048145, 0.05470154, 0.14293755, 0.12248215, 0.14314743,\n",
       "       0.04960239, 0.08776363, 0.0741713 , 0.11549894, 0.15921362])"
      ]
     },
     "execution_count": 9,
     "metadata": {},
     "output_type": "execute_result"
    }
   ],
   "source": [
    "y_hat = softmax(a2) # output layer의 출력(모델의 예측값)\n",
    "y_hat[0]  # 10개의 숫자 중 하나일 확률이 되었습니다."
   ]
  },
  {
   "cell_type": "markdown",
   "metadata": {},
   "source": [
    "## Loss function\n",
    "Activation function을 거쳐 신호들은 Output layer로 전달된다. Output layer의 출력을 예측값(predict value)라 하고, 실제 정답과 모델의 예측값 차이를 계산하고, 이 차이를 줄이기 위해 각 파라미터들을 조정(update)하는 것이 딥러닝의 전체적인 학습 흐름이다.\n",
    "* loss function(cost function) : 정답과 예측값의 차이를 구하는데 사용되는 함수.\n",
    "    * MSE(Mean Square Error)\n",
    "    * Cross Entropy : 두 확률분포 사이의 유사도가 클수록 작아진다."
   ]
  },
  {
   "cell_type": "code",
   "execution_count": 10,
   "metadata": {},
   "outputs": [
    {
     "data": {
      "text/plain": [
       "array([[0., 0., 0., 0., 0., 1., 0., 0., 0., 0.],\n",
       "       [1., 0., 0., 0., 0., 0., 0., 0., 0., 0.],\n",
       "       [0., 0., 0., 0., 1., 0., 0., 0., 0., 0.],\n",
       "       [0., 1., 0., 0., 0., 0., 0., 0., 0., 0.],\n",
       "       [0., 0., 0., 0., 0., 0., 0., 0., 0., 1.]])"
      ]
     },
     "execution_count": 10,
     "metadata": {},
     "output_type": "execute_result"
    }
   ],
   "source": [
    "def _change_ont_hot_label(X, num_category):\n",
    "    T = np.zeros((X.size, num_category))\n",
    "    for idx, row in enumerate(T):\n",
    "        row[X[idx]] = 1\n",
    "        \n",
    "    return T\n",
    "\n",
    "Y_digit = y_train[:5]\n",
    "t = _change_ont_hot_label(Y_digit, 10)\n",
    "t"
   ]
  },
  {
   "cell_type": "code",
   "execution_count": 11,
   "metadata": {},
   "outputs": [
    {
     "name": "stdout",
     "output_type": "stream",
     "text": [
      "[0.05048145 0.05470154 0.14293755 0.12248215 0.14314743 0.04960239\n",
      " 0.08776363 0.0741713  0.11549894 0.15921362]\n",
      "[0. 0. 0. 0. 0. 1. 0. 0. 0. 0.]\n"
     ]
    }
   ],
   "source": [
    "print(y_hat[0])\n",
    "print(t[0])"
   ]
  },
  {
   "cell_type": "code",
   "execution_count": 12,
   "metadata": {},
   "outputs": [
    {
     "data": {
      "text/plain": [
       "2.5531880175808794"
      ]
     },
     "execution_count": 12,
     "metadata": {},
     "output_type": "execute_result"
    }
   ],
   "source": [
    "def cross_entropy_error(y, t):\n",
    "    if y.ndim == 1:\n",
    "        t = t.reshape(1, t.size)\n",
    "        y = y.reshape(1, y.size)\n",
    "        \n",
    "    # 훈련 데이터가 원-핫 벡터라면 정답 레이블의 인덱스로 반환\n",
    "    if t.size == y.size:\n",
    "        t = t.argmax(axis=1)\n",
    "             \n",
    "    batch_size = y.shape[0]\n",
    "    return -np.sum(np.log(y[np.arange(batch_size), t])) / batch_size\n",
    "\n",
    "Loss = cross_entropy_error(y_hat, t)\n",
    "Loss"
   ]
  },
  {
   "cell_type": "markdown",
   "metadata": {},
   "source": [
    "## Gradient descent\n",
    "앞서 구한 오차(cost function의 크기)를 줄이기 위한 방법.\n",
    "* 파라미터 W의 변화에 따른 Loss의 변화량을 구하고, 변화량의 기울기가 커지는 방향의 반대 방향으로 파라미터를 조정한다.\n",
    "* learning rate\n",
    "* parameter 초기화(가중치 초기화)를 어떻게 하는가"
   ]
  },
  {
   "cell_type": "code",
   "execution_count": 14,
   "metadata": {},
   "outputs": [
    {
     "data": {
      "text/plain": [
       "array([[ 0.01009629,  0.01094031,  0.02858751,  0.02449643,  0.02862949,\n",
       "        -0.19007952,  0.01755273,  0.01483426,  0.02309979,  0.03184272],\n",
       "       [-0.18808169,  0.01078796,  0.02309842,  0.02561775,  0.03444927,\n",
       "         0.01311046,  0.01704825,  0.01725052,  0.02182259,  0.02489647],\n",
       "       [ 0.0122521 ,  0.01207237,  0.0270282 ,  0.02440747, -0.17451958,\n",
       "         0.00978173,  0.01527889,  0.01237196,  0.03185732,  0.02946954],\n",
       "       [ 0.01136235, -0.18930368,  0.02344259,  0.02427268,  0.02640512,\n",
       "         0.01246232,  0.02045353,  0.01299459,  0.0237139 ,  0.03419661],\n",
       "       [ 0.01202621,  0.01018632,  0.0263293 ,  0.0288923 ,  0.0286584 ,\n",
       "         0.01003091,  0.01818529,  0.01425135,  0.02307482, -0.1716349 ]])"
      ]
     },
     "execution_count": 14,
     "metadata": {},
     "output_type": "execute_result"
    }
   ],
   "source": [
    "batch_num = y_hat.shape[0]\n",
    "dy = (y_hat - t) / batch_num # dy = aLoss/ay \n",
    "dy # softmax값의 출력으로 Loss를 미분한 값"
   ]
  },
  {
   "cell_type": "code",
   "execution_count": 15,
   "metadata": {},
   "outputs": [
    {
     "data": {
      "text/plain": [
       "array([[-0.0799581 , -0.06475592,  0.05796333,  0.05862593,  0.01493084,\n",
       "        -0.06561424,  0.04064943,  0.03315821,  0.05425917, -0.04925866],\n",
       "       [-0.03051291, -0.0880585 ,  0.06828091,  0.06866656, -0.05598372,\n",
       "        -0.03149511,  0.04712121,  0.03693435,  0.06691783, -0.08187063],\n",
       "       [-0.03205152, -0.02401525,  0.02942202,  0.03053923, -0.00852774,\n",
       "        -0.00028206,  0.02049704,  0.01655235,  0.02830704, -0.06044111],\n",
       "       [-0.10603798, -0.03740176,  0.07387233,  0.0726809 , -0.05884223,\n",
       "        -0.09520884,  0.0494635 ,  0.04138683,  0.07148065, -0.0113934 ],\n",
       "       [-0.09932118, -0.06983181,  0.0958936 ,  0.0940193 , -0.05113742,\n",
       "        -0.14813035,  0.06463006,  0.05305838,  0.09148579, -0.03066637],\n",
       "       [-0.04592732, -0.05257281,  0.06690448,  0.0656894 , -0.08515763,\n",
       "        -0.0625648 ,  0.04469118,  0.03607025,  0.0660754 , -0.03320815],\n",
       "       [-0.03479075, -0.08303419,  0.05560139,  0.05478303,  0.00814077,\n",
       "        -0.09701377,  0.03877094,  0.0306772 ,  0.05186898, -0.0250036 ],\n",
       "       [-0.00145678, -0.05875691,  0.05612428,  0.05523358, -0.11113574,\n",
       "        -0.01576519,  0.037371  ,  0.02910109,  0.05727875, -0.04799406],\n",
       "       [-0.08530644, -0.05709643,  0.06140824,  0.0606193 ,  0.00313288,\n",
       "        -0.1066156 ,  0.04221518,  0.03485938,  0.05743075, -0.01064727],\n",
       "       [-0.05273519, -0.06972428,  0.0415436 ,  0.04048173, -0.02641115,\n",
       "        -0.05876156,  0.02887172,  0.02324347,  0.04058771,  0.03290394],\n",
       "       [-0.05410784, -0.06720467,  0.06223043,  0.06142643, -0.03585427,\n",
       "        -0.07693285,  0.04252121,  0.0342596 ,  0.05992568, -0.02626371],\n",
       "       [-0.07781644, -0.07196269,  0.05005239,  0.05209449,  0.02848975,\n",
       "        -0.02113127,  0.03612291,  0.02915443,  0.04693756, -0.07194114],\n",
       "       [-0.03496075, -0.03654918,  0.05787758,  0.05856642, -0.04809245,\n",
       "        -0.02439178,  0.03919007,  0.03146249,  0.05625097, -0.09935336],\n",
       "       [-0.08366128, -0.07026491,  0.04035371,  0.04174543,  0.02333303,\n",
       "        -0.02152266,  0.02943942,  0.0240005 ,  0.03818145, -0.02160467],\n",
       "       [-0.09367746, -0.05682376,  0.06768289,  0.06767299,  0.01947258,\n",
       "        -0.10575424,  0.04678732,  0.03862105,  0.0626757 , -0.04665707],\n",
       "       [-0.01497465, -0.05645983,  0.02722471,  0.02683184, -0.02310641,\n",
       "        -0.02297906,  0.01912926,  0.01478004,  0.02697373,  0.00258036],\n",
       "       [-0.06991496, -0.07029577,  0.0538188 ,  0.0539487 , -0.01919163,\n",
       "        -0.04781076,  0.03753701,  0.03038058,  0.05196517, -0.02043714],\n",
       "       [-0.0094403 , -0.07823476,  0.04166727,  0.04191893, -0.01297937,\n",
       "        -0.02919144,  0.02947234,  0.0225619 ,  0.04018269, -0.04595727],\n",
       "       [-0.08558734, -0.14895296,  0.07375179,  0.07384664, -0.00126755,\n",
       "        -0.07469611,  0.05282116,  0.0417194 ,  0.0708522 , -0.00248723],\n",
       "       [-0.09125158, -0.05731849,  0.07315603,  0.07288814, -0.02027053,\n",
       "        -0.09167888,  0.05000208,  0.04112435,  0.06947684, -0.04612796],\n",
       "       [-0.09964971, -0.07870914,  0.07617945,  0.07594628,  0.00460955,\n",
       "        -0.10904776,  0.0527702 ,  0.04319899,  0.07152276, -0.03682061],\n",
       "       [-0.0917938 , -0.11256893,  0.08104231,  0.07922584, -0.03458129,\n",
       "        -0.12575004,  0.05593056,  0.0451987 ,  0.07789768,  0.02539896],\n",
       "       [-0.07881087, -0.08504757,  0.08838897,  0.08658508, -0.05044313,\n",
       "        -0.13161301,  0.05995014,  0.04862022,  0.08471684, -0.02234667],\n",
       "       [-0.06473902, -0.1138126 ,  0.07325264,  0.07320785, -0.01178745,\n",
       "        -0.07878861,  0.05142099,  0.04078075,  0.07000432, -0.03953888],\n",
       "       [-0.13647931, -0.07508119,  0.0961667 ,  0.09576432, -0.01032502,\n",
       "        -0.13414186,  0.06592303,  0.0545791 ,  0.09068961, -0.04709537],\n",
       "       [-0.0683742 , -0.08809669,  0.07197218,  0.0704621 , -0.0184859 ,\n",
       "        -0.12099038,  0.04945724,  0.03991923,  0.068273  , -0.00413659],\n",
       "       [-0.09393086, -0.09954831,  0.06753628,  0.06870071,  0.04437098,\n",
       "        -0.07962157,  0.04828706,  0.03897631,  0.06249594, -0.05726654],\n",
       "       [-0.13307125, -0.0577131 ,  0.08151502,  0.0809958 , -0.02241535,\n",
       "        -0.10965723,  0.0556543 ,  0.04652276,  0.07753858, -0.01936952],\n",
       "       [-0.11159722, -0.04241059,  0.0653241 ,  0.06596569, -0.01392187,\n",
       "        -0.06053541,  0.04490307,  0.03752938,  0.06224557, -0.04750272],\n",
       "       [-0.06233086, -0.09910198,  0.06721074,  0.06681197,  0.00596647,\n",
       "        -0.09680511,  0.04709172,  0.03758002,  0.06324465, -0.02966761],\n",
       "       [-0.11089252, -0.03140094,  0.06531929,  0.06404505, -0.01459858,\n",
       "        -0.11920337,  0.04401872,  0.03728741,  0.06147662,  0.00394832],\n",
       "       [-0.03584846, -0.05291472,  0.04366973,  0.04350888, -0.00313935,\n",
       "        -0.05748139,  0.03027515,  0.02423233,  0.04120206, -0.03350423],\n",
       "       [-0.112398  , -0.07566829,  0.06762143,  0.06787333,  0.01355427,\n",
       "        -0.08859954,  0.04732166,  0.03904568,  0.06351893, -0.02226947],\n",
       "       [-0.11405022, -0.05935795,  0.07012437,  0.07028396, -0.01490087,\n",
       "        -0.07746755,  0.04833545,  0.04013216,  0.06685357, -0.02995292],\n",
       "       [-0.09219183, -0.08767003,  0.08850649,  0.08710874, -0.02666022,\n",
       "        -0.13699243,  0.06048119,  0.04924448,  0.08398621, -0.0258126 ],\n",
       "       [-0.06085389, -0.035475  ,  0.03929152,  0.03938331, -0.02358197,\n",
       "        -0.03129746,  0.02699605,  0.02229129,  0.03820268, -0.01495652],\n",
       "       [-0.08635499, -0.12407973,  0.09547131,  0.09498773, -0.0512881 ,\n",
       "        -0.09366835,  0.06601927,  0.05279299,  0.09240701, -0.04628714],\n",
       "       [-0.02256323, -0.04168609,  0.04357064,  0.04209995,  0.00694188,\n",
       "        -0.10657715,  0.02954291,  0.02379719,  0.03988619, -0.0150123 ],\n",
       "       [ 0.00571306, -0.10974003,  0.05416193,  0.05316874, -0.09814473,\n",
       "        -0.01362418,  0.03732381,  0.02810363,  0.05570567, -0.01266789],\n",
       "       [-0.04974602, -0.09823575,  0.05136865,  0.05075664,  0.01217486,\n",
       "        -0.08346291,  0.03650224,  0.02885729,  0.04831341,  0.0034716 ],\n",
       "       [-0.01966057, -0.11201796,  0.06237899,  0.06294738, -0.03637304,\n",
       "        -0.0262793 ,  0.04394954,  0.03376974,  0.06099069, -0.06970546],\n",
       "       [-0.05132912, -0.07045885,  0.07140204,  0.06909935, -0.05612649,\n",
       "        -0.11942025,  0.04801405,  0.03877663,  0.06882576,  0.0012169 ],\n",
       "       [-0.04506226, -0.05224086,  0.04424995,  0.04378559, -0.03279273,\n",
       "        -0.04480736,  0.03034785,  0.02447405,  0.04314281, -0.01109705],\n",
       "       [-0.04317058, -0.10827769,  0.06171475,  0.0605125 ,  0.00031917,\n",
       "        -0.10582343,  0.04327426,  0.03409057,  0.05824402, -0.00088357],\n",
       "       [-0.03681628, -0.09236982,  0.07244315,  0.07203502,  0.00151436,\n",
       "        -0.1039803 ,  0.05023134,  0.03972238,  0.06784219, -0.07062205],\n",
       "       [-0.05207373, -0.03777799,  0.04453298,  0.04373822, -0.06849996,\n",
       "        -0.03117846,  0.02982644,  0.02441964,  0.04481928,  0.00219359],\n",
       "       [-0.13574759, -0.06118077,  0.0782336 ,  0.07763116, -0.01383582,\n",
       "        -0.11261976,  0.0536212 ,  0.04490599,  0.07420307, -0.0052111 ],\n",
       "       [-0.05248456, -0.09262571,  0.081342  ,  0.07932366, -0.08355025,\n",
       "        -0.10047094,  0.05499403,  0.04395735,  0.07970396, -0.01018953],\n",
       "       [-0.10502743, -0.08114171,  0.06893521,  0.06980155, -0.03536324,\n",
       "        -0.03419868,  0.04807871,  0.0392337 ,  0.06728359, -0.03760172],\n",
       "       [-0.00136429, -0.08302966,  0.04447278,  0.04281121, -0.06314841,\n",
       "        -0.05097678,  0.03038225,  0.0232647 ,  0.04457217,  0.01301603]])"
      ]
     },
     "execution_count": 15,
     "metadata": {},
     "output_type": "execute_result"
    }
   ],
   "source": [
    "dW2 = np.dot(z1.T, dy)    \n",
    "dW2"
   ]
  },
  {
   "cell_type": "code",
   "execution_count": 16,
   "metadata": {},
   "outputs": [],
   "source": [
    "dW2 = np.dot(z1.T, dy)\n",
    "db2 = np.sum(dy, axis=0)"
   ]
  },
  {
   "cell_type": "code",
   "execution_count": 17,
   "metadata": {},
   "outputs": [],
   "source": [
    "def sigmoid_grad(x):\n",
    "    return (1.0 - sigmoid(x)) * sigmoid(x)"
   ]
  },
  {
   "cell_type": "code",
   "execution_count": 18,
   "metadata": {},
   "outputs": [],
   "source": [
    "dz1 = np.dot(dy, W2.T)\n",
    "da1 = sigmoid_grad(a1) * dz1\n",
    "dW1 = np.dot(X.T, da1)\n",
    "db1 = np.sum(dz1, axis=0)"
   ]
  },
  {
   "cell_type": "code",
   "execution_count": 19,
   "metadata": {},
   "outputs": [],
   "source": [
    "learning_rate = 0.1\n",
    "\n",
    "def update_params(W1, b1, W2, b2, dW1, db1, dW2, db2, learning_rate):\n",
    "    W1 = W1 - learning_rate*dW1\n",
    "    b1 = b1 - learning_rate*db1\n",
    "    W2 = W2 - learning_rate*dW2\n",
    "    b2 = b2 - learning_rate*db2\n",
    "    return W1, b1, W2, b2"
   ]
  },
  {
   "cell_type": "markdown",
   "metadata": {},
   "source": [
    "## Backpropagation\n",
    "Gradient descent로 구한 기울기를 어떻게 Input layer로 전달하여 파라미터를 조정(update)할 수 있을까?"
   ]
  },
  {
   "cell_type": "code",
   "execution_count": 20,
   "metadata": {},
   "outputs": [],
   "source": [
    "def affine_layer_backward(dy, cache):\n",
    "    X, W, b = cache\n",
    "    dX = np.dot(dy, W.T)\n",
    "    dW = np.dot(X.T, dy)\n",
    "    db = np.sum(dy, axis=0)\n",
    "    return dX, dW, db"
   ]
  },
  {
   "cell_type": "code",
   "execution_count": 21,
   "metadata": {},
   "outputs": [
    {
     "name": "stdout",
     "output_type": "stream",
     "text": [
      "[[0.11463054 0.09170069 0.13077456 0.14760841 0.06674502 0.05200574\n",
      "  0.12955146 0.09364097 0.08071439 0.09262822]\n",
      " [0.1239482  0.10251724 0.104672   0.13336732 0.07814976 0.05839971\n",
      "  0.1632073  0.07743007 0.06951684 0.08879158]\n",
      " [0.10644494 0.09244442 0.10417061 0.13198127 0.06393785 0.06586027\n",
      "  0.13572441 0.10823544 0.09101706 0.10018372]\n",
      " [0.10352318 0.10985384 0.11111911 0.14674458 0.07169492 0.06643063\n",
      "  0.13309173 0.09122061 0.07689639 0.08942499]\n",
      " [0.12456173 0.09529779 0.0826805  0.13808148 0.07024826 0.04940456\n",
      "  0.15837034 0.10701631 0.08104583 0.09329319]]\n",
      "[[0. 0. 0. 0. 0. 1. 0. 0. 0. 0.]\n",
      " [1. 0. 0. 0. 0. 0. 0. 0. 0. 0.]\n",
      " [0. 0. 0. 0. 1. 0. 0. 0. 0. 0.]\n",
      " [0. 1. 0. 0. 0. 0. 0. 0. 0. 0.]\n",
      " [0. 0. 0. 0. 0. 0. 0. 0. 0. 1.]]\n",
      "Loss:  2.4749498194725765\n"
     ]
    }
   ],
   "source": [
    "# 파라미터 초기화\n",
    "W1 = weight_init_std * np.random.randn(input_size, hidden_size)\n",
    "b1 = np.zeros(hidden_size)\n",
    "W2 = weight_init_std * np.random.randn(hidden_size, output_size)\n",
    "b2 = np.zeros(output_size)\n",
    "\n",
    "# Forward Propagation\n",
    "a1, cache1 = affine_layer_forward(X, W1, b1)\n",
    "z1 = sigmoid(a1)\n",
    "a2, cache2 = affine_layer_forward(z1, W2, b2)\n",
    "\n",
    "# 추론과 오차(Loss) 계산\n",
    "y_hat = softmax(a2)\n",
    "t = _change_ont_hot_label(Y_digit, 10)   # 정답 One-hot 인코딩\n",
    "Loss = cross_entropy_error(y_hat, t)\n",
    "\n",
    "print(y_hat)\n",
    "print(t)\n",
    "print('Loss: ', Loss)\n",
    "        \n",
    "dy = (y_hat - t) / X.shape[0]\n",
    "dz1, dW2, db2 = affine_layer_backward(dy, cache2)\n",
    "da1 = sigmoid_grad(a1) * dz1\n",
    "dX, dW1, db1 = affine_layer_backward(da1, cache1)\n",
    "\n",
    "# 경사하강법을 통한 파라미터 업데이트    \n",
    "learning_rate = 0.1\n",
    "W1, b1, W2, b2 = update_params(W1, b1, W2, b2, dW1, db1, dW2, db2, learning_rate)"
   ]
  },
  {
   "cell_type": "markdown",
   "metadata": {},
   "source": [
    "## Test\n",
    "Parameter 업데이트에 따라 점점 Loss가 줄어드는지(점점 정확한 추론을 하는지) 확인"
   ]
  },
  {
   "cell_type": "code",
   "execution_count": 24,
   "metadata": {},
   "outputs": [],
   "source": [
    "W1 = weight_init_std * np.random.randn(input_size, hidden_size)\n",
    "b1 = np.zeros(hidden_size)\n",
    "W2 = weight_init_std * np.random.randn(hidden_size, output_size)\n",
    "b2 = np.zeros(output_size)\n",
    "\n",
    "def train_step(X, Y, W1, b1, W2, b2, learning_rate=0.1, verbose=False):\n",
    "    a1, cache1 = affine_layer_forward(X, W1, b1)\n",
    "    z1 = sigmoid(a1)\n",
    "    a2, cache2 = affine_layer_forward(z1, W2, b2)\n",
    "    y_hat = softmax(a2)\n",
    "    t = _change_ont_hot_label(Y, 10)\n",
    "    Loss = cross_entropy_error(y_hat, t)\n",
    "\n",
    "    if verbose:\n",
    "        print('---------')\n",
    "        #print(y_hat)\n",
    "        #print(t)\n",
    "        print('Loss: ', Loss)\n",
    "        \n",
    "    dy = (y_hat - t) / X.shape[0]\n",
    "    dz1, dW2, db2 = affine_layer_backward(dy, cache2)\n",
    "    da1 = sigmoid_grad(a1) * dz1\n",
    "    dX, dW1, db1 = affine_layer_backward(da1, cache1)\n",
    "    \n",
    "    W1, b1, W2, b2 = update_params(W1, b1, W2, b2, dW1, db1, dW2, db2, learning_rate)\n",
    "    \n",
    "    return W1, b1, W2, b2, Loss"
   ]
  },
  {
   "cell_type": "code",
   "execution_count": 25,
   "metadata": {},
   "outputs": [
    {
     "name": "stdout",
     "output_type": "stream",
     "text": [
      "---------\n",
      "Loss:  2.220537379545103\n",
      "---------\n",
      "Loss:  2.0669041564253834\n",
      "---------\n",
      "Loss:  1.9433594927873217\n",
      "---------\n",
      "Loss:  1.8416144508680652\n",
      "---------\n",
      "Loss:  1.755732849112722\n"
     ]
    }
   ],
   "source": [
    "X = x_train_reshaped[:5]\n",
    "Y = y_train[:5]\n",
    "\n",
    "# train_step을 다섯 번 반복\n",
    "for i in range(5):\n",
    "    W1, b1, W2, b2, _ = train_step(X, Y, W1, b1, W2, b2, learning_rate=0.1, verbose=True)"
   ]
  },
  {
   "cell_type": "markdown",
   "metadata": {},
   "source": [
    "## 모델 예측과 정확도 계산"
   ]
  },
  {
   "cell_type": "code",
   "execution_count": 26,
   "metadata": {},
   "outputs": [],
   "source": [
    "def predict(W1, b1, W2, b2, X):\n",
    "    a1 = np.dot(X, W1) + b1\n",
    "    z1 = sigmoid(a1)\n",
    "    a2 = np.dot(z1, W2) + b2\n",
    "    y = softmax(a2)\n",
    "\n",
    "    return y"
   ]
  },
  {
   "cell_type": "code",
   "execution_count": 27,
   "metadata": {},
   "outputs": [
    {
     "data": {
      "text/plain": [
       "array([0.14688295, 0.13141848, 0.03871126, 0.04784663, 0.12237008,\n",
       "       0.20813865, 0.06576103, 0.0535397 , 0.04032806, 0.14500315])"
      ]
     },
     "execution_count": 27,
     "metadata": {},
     "output_type": "execute_result"
    }
   ],
   "source": [
    "# 100가지 train example을 가지고 추론\n",
    "X = x_train_reshaped[:100]\n",
    "Y = y_test[:100]\n",
    "result = predict(W1, b1, W2, b2, X)\n",
    "result[0]"
   ]
  },
  {
   "cell_type": "code",
   "execution_count": 29,
   "metadata": {},
   "outputs": [],
   "source": [
    "def accuracy(W1, b1, W2, b2, x, y):\n",
    "    y_hat = predict(W1, b1, W2, b2, x)\n",
    "    y_hat = np.argmax(y_hat, axis=1)\n",
    "   # t = np.argmax(t, axis=1)\n",
    "\n",
    "    accuracy = np.sum(y_hat == y) / float(x.shape[0])\n",
    "    return accuracy"
   ]
  },
  {
   "cell_type": "code",
   "execution_count": 30,
   "metadata": {},
   "outputs": [
    {
     "name": "stdout",
     "output_type": "stream",
     "text": [
      "[0.14688295 0.13141848 0.03871126 0.04784663 0.12237008 0.20813865\n",
      " 0.06576103 0.0535397  0.04032806 0.14500315]\n",
      "[0. 0. 0. 0. 0. 0. 0. 1. 0. 0.]\n",
      "0.07\n"
     ]
    }
   ],
   "source": [
    "acc = accuracy(W1, b1, W2, b2, X, Y)\n",
    "\n",
    "t = _change_ont_hot_label(Y, 10)\n",
    "print(result[0])\n",
    "print(t[0])\n",
    "print(acc)"
   ]
  },
  {
   "cell_type": "markdown",
   "metadata": {},
   "source": [
    "## 전체 데이터셋에 적용"
   ]
  },
  {
   "cell_type": "code",
   "execution_count": 31,
   "metadata": {},
   "outputs": [],
   "source": [
    "def init_params(input_size, hidden_size, output_size, weight_init_std=0.01):\n",
    "\n",
    "    W1 = weight_init_std * np.random.randn(input_size, hidden_size)\n",
    "    b1 = np.zeros(hidden_size)\n",
    "    W2 = weight_init_std * np.random.randn(hidden_size, output_size)\n",
    "    b2 = np.zeros(output_size)\n",
    "\n",
    "    print(W1.shape)\n",
    "    print(b1.shape)\n",
    "    print(W2.shape)\n",
    "    print(b2.shape)\n",
    "    \n",
    "    return W1, b1, W2, b2"
   ]
  },
  {
   "cell_type": "code",
   "execution_count": 32,
   "metadata": {
    "scrolled": false
   },
   "outputs": [
    {
     "name": "stdout",
     "output_type": "stream",
     "text": [
      "(784, 50)\n",
      "(50,)\n",
      "(50, 10)\n",
      "(10,)\n",
      "Loss:  2.3022694078249204\n",
      "train acc, test acc | 0.12318333333333334, 0.1276\n",
      "Loss:  0.8408604072788957\n",
      "train acc, test acc | 0.7795333333333333, 0.7876\n",
      "Loss:  0.4812913531638655\n",
      "train acc, test acc | 0.877, 0.881\n",
      "Loss:  0.3950979391261163\n",
      "train acc, test acc | 0.8982166666666667, 0.9002\n",
      "Loss:  0.3256717561976253\n",
      "train acc, test acc | 0.9064166666666666, 0.9088\n",
      "Loss:  0.31560265592061737\n",
      "train acc, test acc | 0.9130666666666667, 0.9154\n",
      "Loss:  0.21562401508609486\n",
      "train acc, test acc | 0.9179, 0.9208\n",
      "Loss:  0.23268433502655378\n",
      "train acc, test acc | 0.9234666666666667, 0.9236\n",
      "Loss:  0.2647695324778799\n",
      "train acc, test acc | 0.9274666666666667, 0.9288\n",
      "Loss:  0.18977848194727445\n",
      "train acc, test acc | 0.9312833333333334, 0.9289\n",
      "Loss:  0.3957356110034976\n",
      "train acc, test acc | 0.9341666666666667, 0.9347\n",
      "Loss:  0.2600388744951183\n",
      "train acc, test acc | 0.9368666666666666, 0.9368\n",
      "Loss:  0.15548599243614947\n",
      "train acc, test acc | 0.93955, 0.939\n",
      "Loss:  0.27416209294020794\n",
      "train acc, test acc | 0.9412333333333334, 0.9404\n",
      "Loss:  0.2097405110106808\n",
      "train acc, test acc | 0.94325, 0.9429\n",
      "Loss:  0.12502182500896195\n",
      "train acc, test acc | 0.9451666666666667, 0.9434\n",
      "Loss:  0.1692445551416844\n",
      "train acc, test acc | 0.94705, 0.9457\n",
      "Loss:  0.262311308315193\n",
      "train acc, test acc | 0.9479166666666666, 0.9473\n",
      "Loss:  0.13425456063747837\n",
      "train acc, test acc | 0.9493333333333334, 0.9485\n",
      "Loss:  0.1551362536383217\n",
      "train acc, test acc | 0.9511333333333334, 0.9492\n",
      "Loss:  0.14668742334551665\n",
      "train acc, test acc | 0.9527, 0.9502\n",
      "Loss:  0.217989480439319\n",
      "train acc, test acc | 0.9537166666666667, 0.9524\n",
      "Loss:  0.14182723931120825\n",
      "train acc, test acc | 0.9547333333333333, 0.9531\n",
      "Loss:  0.15919683974757465\n",
      "train acc, test acc | 0.9556333333333333, 0.9536\n",
      "Loss:  0.14678110901701596\n",
      "train acc, test acc | 0.9567833333333333, 0.9543\n",
      "Loss:  0.19812055724207847\n",
      "train acc, test acc | 0.958, 0.9554\n",
      "Loss:  0.13117027319226282\n",
      "train acc, test acc | 0.9591166666666666, 0.9557\n",
      "Loss:  0.1369270124900069\n",
      "train acc, test acc | 0.9596, 0.9568\n",
      "Loss:  0.16239948371451174\n",
      "train acc, test acc | 0.96085, 0.957\n",
      "Loss:  0.11683078449234145\n",
      "train acc, test acc | 0.9615666666666667, 0.9574\n",
      "Loss:  0.11298164336292692\n",
      "train acc, test acc | 0.9624, 0.958\n",
      "Loss:  0.10751241829144703\n",
      "train acc, test acc | 0.96315, 0.9579\n",
      "Loss:  0.09189814521058265\n",
      "train acc, test acc | 0.96415, 0.96\n",
      "Loss:  0.07828913552394341\n",
      "train acc, test acc | 0.9649, 0.9598\n",
      "Loss:  0.051987469422897344\n",
      "train acc, test acc | 0.9657, 0.9597\n",
      "Loss:  0.07724521012286702\n",
      "train acc, test acc | 0.9662, 0.9599\n",
      "Loss:  0.19404009316904614\n",
      "train acc, test acc | 0.96715, 0.961\n",
      "Loss:  0.21067701832399466\n",
      "train acc, test acc | 0.96655, 0.9612\n",
      "Loss:  0.18611968101627405\n",
      "train acc, test acc | 0.9681333333333333, 0.961\n",
      "Loss:  0.10358516909405557\n",
      "train acc, test acc | 0.9685333333333334, 0.9611\n",
      "Loss:  0.140676421584192\n",
      "train acc, test acc | 0.9693, 0.9618\n",
      "Loss:  0.06167447238175204\n",
      "train acc, test acc | 0.9695666666666667, 0.9625\n",
      "Loss:  0.08774971873120829\n",
      "train acc, test acc | 0.9700166666666666, 0.962\n",
      "Loss:  0.11574581186225309\n",
      "train acc, test acc | 0.9705333333333334, 0.9631\n",
      "Loss:  0.09426034595053556\n",
      "train acc, test acc | 0.9709833333333333, 0.9634\n",
      "Loss:  0.14012188431059053\n",
      "train acc, test acc | 0.9714, 0.9631\n",
      "Loss:  0.07111700829931196\n",
      "train acc, test acc | 0.9717333333333333, 0.9637\n",
      "Loss:  0.04049417211742925\n",
      "train acc, test acc | 0.97275, 0.9645\n",
      "Loss:  0.057182942928594\n",
      "train acc, test acc | 0.97265, 0.9644\n",
      "Loss:  0.13751620874311782\n",
      "train acc, test acc | 0.9733333333333334, 0.9647\n",
      "Loss:  0.0773217787320894\n",
      "train acc, test acc | 0.97335, 0.9651\n",
      "Loss:  0.16171207718686575\n",
      "train acc, test acc | 0.9734333333333334, 0.9659\n",
      "Loss:  0.0577085062451\n",
      "train acc, test acc | 0.9740666666666666, 0.9656\n",
      "Loss:  0.06519143499749623\n",
      "train acc, test acc | 0.97465, 0.9661\n",
      "Loss:  0.05648810751439157\n",
      "train acc, test acc | 0.975, 0.9667\n",
      "Loss:  0.057327227417660984\n",
      "train acc, test acc | 0.9754666666666667, 0.9661\n",
      "Loss:  0.11526382624445333\n",
      "train acc, test acc | 0.9757, 0.9664\n",
      "Loss:  0.07253024132272898\n",
      "train acc, test acc | 0.9759, 0.9663\n",
      "Loss:  0.09588678025205848\n",
      "train acc, test acc | 0.97655, 0.9674\n",
      "Loss:  0.10613052317304686\n",
      "train acc, test acc | 0.9763166666666667, 0.9675\n",
      "Loss:  0.038787160231969084\n",
      "train acc, test acc | 0.9769166666666667, 0.9676\n",
      "Loss:  0.037040642676847944\n",
      "train acc, test acc | 0.9773833333333334, 0.968\n",
      "Loss:  0.06216300556971968\n",
      "train acc, test acc | 0.9773666666666667, 0.968\n",
      "Loss:  0.07210534299342725\n",
      "train acc, test acc | 0.9777, 0.9672\n",
      "Loss:  0.043862881061551\n",
      "train acc, test acc | 0.9782833333333333, 0.9682\n",
      "Loss:  0.052240997258653415\n",
      "train acc, test acc | 0.97825, 0.9684\n",
      "Loss:  0.04880712769526901\n",
      "train acc, test acc | 0.9784166666666667, 0.9681\n",
      "Loss:  0.094693748966711\n",
      "train acc, test acc | 0.9788333333333333, 0.9691\n",
      "Loss:  0.09730716620756967\n",
      "train acc, test acc | 0.9792166666666666, 0.9695\n",
      "Loss:  0.03784613600641238\n",
      "train acc, test acc | 0.9796, 0.9685\n",
      "Loss:  0.13095635956084548\n",
      "train acc, test acc | 0.97995, 0.9692\n",
      "Loss:  0.08628824214279313\n",
      "train acc, test acc | 0.98005, 0.9693\n",
      "Loss:  0.02943450672051426\n",
      "train acc, test acc | 0.98045, 0.9691\n",
      "Loss:  0.05349535136009392\n",
      "train acc, test acc | 0.9805166666666667, 0.9694\n",
      "Loss:  0.09242134172361938\n",
      "train acc, test acc | 0.9808833333333333, 0.97\n",
      "Loss:  0.15232728042437815\n",
      "train acc, test acc | 0.9811833333333333, 0.9706\n",
      "Loss:  0.09520501315724146\n",
      "train acc, test acc | 0.98105, 0.9705\n",
      "Loss:  0.06082934831844467\n",
      "train acc, test acc | 0.9816, 0.9703\n",
      "Loss:  0.04649555780729481\n",
      "train acc, test acc | 0.9816666666666667, 0.9706\n",
      "Loss:  0.06776331701886901\n",
      "train acc, test acc | 0.9818833333333333, 0.9704\n",
      "Loss:  0.09018048536860163\n",
      "train acc, test acc | 0.9824, 0.9715\n",
      "Loss:  0.06243698513839721\n",
      "train acc, test acc | 0.9824, 0.9708\n",
      "Loss:  0.12142528626083954\n",
      "train acc, test acc | 0.9825333333333334, 0.9715\n",
      "Loss:  0.10305250641518539\n",
      "train acc, test acc | 0.9827, 0.9713\n"
     ]
    }
   ],
   "source": [
    "# 하이퍼파라미터\n",
    "iters_num = 50000  # 반복 횟수를 적절히 설정한다.\n",
    "train_size = x_train.shape[0]\n",
    "batch_size = 100   # 미니배치 크기\n",
    "learning_rate = 0.1\n",
    "\n",
    "train_loss_list = []\n",
    "train_acc_list = []\n",
    "test_acc_list = []\n",
    "\n",
    "# 1에폭당 반복 수\n",
    "iter_per_epoch = max(train_size / batch_size, 1)\n",
    "\n",
    "W1, b1, W2, b2 = init_params(784, 50, 10)\n",
    "\n",
    "for i in range(iters_num):\n",
    "    # 미니배치 획득\n",
    "    batch_mask = np.random.choice(train_size, batch_size)\n",
    "    x_batch = x_train_reshaped[batch_mask]\n",
    "    y_batch = y_train[batch_mask]\n",
    "    \n",
    "    W1, b1, W2, b2, Loss = train_step(x_batch, y_batch, W1, b1, W2, b2, learning_rate=0.1, verbose=False)\n",
    "\n",
    "    # 학습 경과 기록\n",
    "    train_loss_list.append(Loss)\n",
    "    \n",
    "    # 1에폭당 정확도 계산\n",
    "    if i % iter_per_epoch == 0:\n",
    "        print('Loss: ', Loss)\n",
    "        train_acc = accuracy(W1, b1, W2, b2, x_train_reshaped, y_train)\n",
    "        test_acc = accuracy(W1, b1, W2, b2, x_test_reshaped, y_test)\n",
    "        train_acc_list.append(train_acc)\n",
    "        test_acc_list.append(test_acc)\n",
    "        print(\"train acc, test acc | \" + str(train_acc) + \", \" + str(test_acc))"
   ]
  },
  {
   "cell_type": "code",
   "execution_count": 33,
   "metadata": {},
   "outputs": [
    {
     "data": {
      "image/png": "[encoded data removed]",
      "text/plain": [
       "<Figure size 864x432 with 1 Axes>"
      ]
     },
     "metadata": {
      "needs_background": "light"
     },
     "output_type": "display_data"
    }
   ],
   "source": [
    "from matplotlib.pylab import rcParams\n",
    "rcParams['figure.figsize'] = 12, 6 \n",
    "\n",
    "# Accuracy 그래프 그리기\n",
    "markers = {'train': 'o', 'test': 's'}\n",
    "x = np.arange(len(train_acc_list))\n",
    "plt.plot(x, train_acc_list, label='train acc')\n",
    "plt.plot(x, test_acc_list, label='test acc', linestyle='--')\n",
    "plt.xlabel(\"epochs\")\n",
    "plt.ylabel(\"accuracy\")\n",
    "plt.ylim(0, 1.0)\n",
    "plt.legend(loc='lower right')\n",
    "plt.show()"
   ]
  },
  {
   "cell_type": "code",
   "execution_count": 34,
   "metadata": {},
   "outputs": [
    {
     "data": {
      "image/png": "[encoded data removed]",
      "text/plain": [
       "<Figure size 864x432 with 1 Axes>"
      ]
     },
     "metadata": {
      "needs_background": "light"
     },
     "output_type": "display_data"
    }
   ],
   "source": [
    "# Loss 그래프 그리기\n",
    "x = np.arange(len(train_loss_list))\n",
    "plt.plot(x, train_loss_list, label='train acc')\n",
    "plt.xlabel(\"epochs\")\n",
    "plt.ylabel(\"Loss\")\n",
    "plt.ylim(0, 3.0)\n",
    "plt.legend(loc='best')\n",
    "plt.show()"
   ]
  },
  {
   "cell_type": "code",
   "execution_count": null,
   "metadata": {},
   "outputs": [],
   "source": []
  }
 ],
 "metadata": {
  "kernelspec": {
   "display_name": "Python 3",
   "language": "python",
   "name": "python3"
  },
  "language_info": {
   "codemirror_mode": {
    "name": "ipython",
    "version": 3
   },
   "file_extension": ".py",
   "mimetype": "text/x-python",
   "name": "python",
   "nbconvert_exporter": "python",
   "pygments_lexer": "ipython3",
   "version": "3.7.9"
  }
 },
 "nbformat": 4,
 "nbformat_minor": 4
}
