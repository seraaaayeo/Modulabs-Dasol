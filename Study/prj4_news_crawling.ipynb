{
 "cells": [
  {
   "cell_type": "markdown",
   "metadata": {},
   "source": [
    "## Crawling\n",
    "### Pre-requisite\n",
    "1. Install **Mecab**\n",
    "```\n",
    "git clone https://github.com/SOMJANG/Mecab-ko-for-Google-Colab.git\n",
    "cd Mecab-ko-for-Google-Colab\n",
    "bash install_mecab-ko_on_colab190912.sh\n",
    "```\n",
    "2. Install python-crawling and NLP package\n",
    "```\n",
    "pip install beautifulsoup4\n",
    "pip install newspaper3k\n",
    "pip install konlpy\n",
    "```"
   ]
  },
  {
   "cell_type": "markdown",
   "metadata": {},
   "source": [
    "### Seletor"
   ]
  },
  {
   "cell_type": "markdown",
   "metadata": {},
   "source": [
    "### Beautifulsoup 실습"
   ]
  },
  {
   "cell_type": "code",
   "execution_count": 1,
   "metadata": {},
   "outputs": [],
   "source": [
    "from bs4 import BeautifulSoup\n",
    "\n",
    "#- HTML 문서를 문자열 html로 저장합니다.\n",
    "html = '''\n",
    "<html> \n",
    "    <head> \n",
    "    </head> \n",
    "    <body> \n",
    "        <h1> 장바구니\n",
    "            <p id='clothes' class='name' title='라운드티'> 라운드티\n",
    "                <span class = 'number'> 25 </span> \n",
    "                <span class = 'price'> 29000 </span> \n",
    "                <span class = 'menu'> 의류</span> \n",
    "                <a href = 'http://www.naver.com'> 바로가기 </a> \n",
    "            </p> \n",
    "            <p id='watch' class='name' title='시계'> 시계\n",
    "                <span class = 'number'> 28 </span>\n",
    "                <span class = 'price'> 32000 </span> \n",
    "                <span class = 'menu'> 악세서리 </span> \n",
    "                <a href = 'http://www.facebook.com'> 바로가기 </a> \n",
    "            </p> \n",
    "        </h1> \n",
    "    </body> \n",
    "</html>\n",
    "'''\n",
    "\n",
    "#- BeautifulSoup 인스턴스를 생성합니다.\n",
    "#- 두번째 매개변수는 분석할 분석기(parser)의 종류입니다.\n",
    "soup = BeautifulSoup(html, 'html.parser')"
   ]
  },
  {
   "cell_type": "code",
   "execution_count": 2,
   "metadata": {},
   "outputs": [
    {
     "name": "stdout",
     "output_type": "stream",
     "text": [
      "[<body>\n",
      "<h1> 장바구니\n",
      "            <p class=\"name\" id=\"clothes\" title=\"라운드티\"> 라운드티\n",
      "                <span class=\"number\"> 25 </span>\n",
      "<span class=\"price\"> 29000 </span>\n",
      "<span class=\"menu\"> 의류</span>\n",
      "<a href=\"http://www.naver.com\"> 바로가기 </a>\n",
      "</p>\n",
      "<p class=\"name\" id=\"watch\" title=\"시계\"> 시계\n",
      "                <span class=\"number\"> 28 </span>\n",
      "<span class=\"price\"> 32000 </span>\n",
      "<span class=\"menu\"> 악세서리 </span>\n",
      "<a href=\"http://www.facebook.com\"> 바로가기 </a>\n",
      "</p>\n",
      "</h1>\n",
      "</body>]\n"
     ]
    }
   ],
   "source": [
    "print(soup.select('body'))"
   ]
  },
  {
   "cell_type": "code",
   "execution_count": 3,
   "metadata": {},
   "outputs": [
    {
     "name": "stdout",
     "output_type": "stream",
     "text": [
      "[<p class=\"name\" id=\"clothes\" title=\"라운드티\"> 라운드티\n",
      "                <span class=\"number\"> 25 </span>\n",
      "<span class=\"price\"> 29000 </span>\n",
      "<span class=\"menu\"> 의류</span>\n",
      "<a href=\"http://www.naver.com\"> 바로가기 </a>\n",
      "</p>, <p class=\"name\" id=\"watch\" title=\"시계\"> 시계\n",
      "                <span class=\"number\"> 28 </span>\n",
      "<span class=\"price\"> 32000 </span>\n",
      "<span class=\"menu\"> 악세서리 </span>\n",
      "<a href=\"http://www.facebook.com\"> 바로가기 </a>\n",
      "</p>]\n"
     ]
    }
   ],
   "source": [
    "print(soup.select('p'))"
   ]
  },
  {
   "cell_type": "code",
   "execution_count": 4,
   "metadata": {},
   "outputs": [
    {
     "name": "stdout",
     "output_type": "stream",
     "text": [
      "[<span class=\"menu\"> 의류</span>, <span class=\"menu\"> 악세서리 </span>]\n"
     ]
    }
   ],
   "source": [
    "print(soup.select('h1 .name .menu'))"
   ]
  },
  {
   "cell_type": "code",
   "execution_count": 5,
   "metadata": {},
   "outputs": [
    {
     "name": "stdout",
     "output_type": "stream",
     "text": [
      "[]\n"
     ]
    }
   ],
   "source": [
    "print(soup.select('html > h1'))"
   ]
  },
  {
   "cell_type": "code",
   "execution_count": 6,
   "metadata": {},
   "outputs": [
    {
     "name": "stdout",
     "output_type": "stream",
     "text": [
      "[<h1> 장바구니\n",
      "            <p class=\"name\" id=\"clothes\" title=\"라운드티\"> 라운드티\n",
      "                <span class=\"number\"> 25 </span>\n",
      "<span class=\"price\"> 29000 </span>\n",
      "<span class=\"menu\"> 의류</span>\n",
      "<a href=\"http://www.naver.com\"> 바로가기 </a>\n",
      "</p>\n",
      "<p class=\"name\" id=\"watch\" title=\"시계\"> 시계\n",
      "                <span class=\"number\"> 28 </span>\n",
      "<span class=\"price\"> 32000 </span>\n",
      "<span class=\"menu\"> 악세서리 </span>\n",
      "<a href=\"http://www.facebook.com\"> 바로가기 </a>\n",
      "</p>\n",
      "</h1>]\n"
     ]
    }
   ],
   "source": [
    "print(soup.select('body > h1'))"
   ]
  },
  {
   "cell_type": "markdown",
   "metadata": {},
   "source": [
    "### newspaper3k\n",
    "뉴스 데이터를 크롤링하기 위한 패키지. 뉴스 기사 url로부터 뉴스 기사의 제목과 텍스트를 추출한다.\n",
    "* 필요한 것 : 뉴스 url!!!"
   ]
  },
  {
   "cell_type": "code",
   "execution_count": 7,
   "metadata": {},
   "outputs": [],
   "source": [
    "from newspaper import Article\n",
    "\n",
    "#- 파싱할 뉴스 기사 주소입니다.\n",
    "url = 'https://news.naver.com/main/read.nhn?mode=LSD&mid=sec&sid1=101&oid=030&aid=0002881076'\n",
    "\n",
    "#- 언어가 한국어이므로 language='ko'로 설정해줍니다.\n",
    "article = Article(url, language='ko')\n",
    "article.download()\n",
    "article.parse()"
   ]
  },
  {
   "cell_type": "code",
   "execution_count": 8,
   "metadata": {},
   "outputs": [
    {
     "name": "stdout",
     "output_type": "stream",
     "text": [
      "기사 제목 :\n",
      "[AI 사피엔스 시대]자연어처리 기술, 컴퓨팅 파워 경쟁 시대로\n",
      "\n",
      "기사 내용 :\n",
      "[Copyright ⓒ 전자신문 & 전자신문인터넷, 무단전재 및 재배포 금지]\n",
      "\n",
      "주로 아이디어와 기술력으로 경쟁했던 자연어처리 인공지능(AI) 분야는 점차 컴퓨팅 파워 싸움으로 무게 추가 이동하고 있다. 모델이 대형화되면서 향상된 퍼포먼스 확보에 필요한 자금 규모도 커지고 있다. 자칫 대기업 자본력에 휘둘릴 수 있다는 우려도 함께 나온다.자연어처리(NLP)는 인간이 사용하는 언어 체계를 기계가 인식하도록 알고리즘을 디자인하는 기술이다. 흔히 말하는 컴퓨터 혹은 인간과 대화하는 컴퓨터 관련 기술이 포함된다.목적에 따라 세 가지 카테고리로 나뉜다. 인간이 제기한 질문에 자동으로 적절한 답을 찾아주는 '질의응답(QA)', 원하는 업무를 지시했을 때 작업을 수행하는 '테스크 컴플리션', 그리고 특별한 목적이 없는 대화를 의미하는 '오픈도메인 컨버세이션(비목적성 대화)'이 있다. 각기 발전해왔던 세 가지 기술은 지난 2018년 구글의 인공지능 언어모델 '버트(BERT)'의 등장으로 패러다임이 전환됐다. 압도적인 성능으로 대량의 프리트레이닝(사전학습)이 가능해지면서 굳이 셋을 구분할 필요가 없어진 것이다.기계학습 연구에서 모델을 학습할 때는 지도학습과 비지도학습, 강화학습 중 하나를 골라 활용한다. 지도학습은 사람이 적절한 입력과 출력을 부여하는 방식이다. 정답이 정해져 있고 기계의 정답률도 쉽게 측정할 수 있다. 반면에 비지도학습은 정답이 정해지지 않은 데이터에 대해서도 기계가 스스로 클러스터링 등을 통해 학습한다. 체계화되지 않은 대량의 데이터를 학습 가능하지만 학습이 맞게 됐는지 확인하기 어렵다.버트는 기존 AI 학습 방법을 혁신적으로 바꿔놨다는 평가를 받는다. 자연어처리를 교사 없이 양방향으로 사전 학습하는 최초의 시스템이다. 비지도학습 방식을 사용하면서도 기존 존재했던 어떤 기술보다 뛰어난 성능을 보여준다. 최근 1년 반 동안 버트를 필두로 AI 모델은 급격히 대형화되는 추세다.이는 기존의 빅데이터 개념을 훨씬 상회하는 초 대규모 데이터를 프리트레이닝 단계에서 학습 가능하게 만드는 결과로 이어졌다. 성능도 비약적으로 상승했다. 가장 최근 구글이 선보인 제너레이션 모델은 제시된 문장에 대해 인간의 80~90% 수준으로 답변 문장을 만들어 낸다.문제는 모델이 대형화되면서 기술을 구성하는 요소 중 알고리즘 대비 대량의 데이터셋과 컴퓨팅 파워 중요성이 더 커졌다는 점이다. 버트 자체는 '파인튜닝' 방식으로 다양한 분야에 확대 적용이 가능하지만 버트 성능에 준하는 최신 대형 모델을 만들어내려면 현존 최신 텐서처리장치(TPU)로도 학습에 수십 일이 걸린다.국내 한 AI 스타트업 대표는 “국내 상황은 데이터셋·인력·자금 인프라 모두 중국이나 영어권에 비해 떨어지는 게 사실이다. 자연어처리 모델 하나 만드는 데 10억~20억원씩 비용이 들어 고민이 많다”면서 “지금 글로벌 시장에서 격차가 나기 시작하면 이후에는 따라잡기 어려워진다. 정부 차원의 관심과 지원이 필요하다”고 말했다.이형두기자 dudu@etnews.com\n"
     ]
    }
   ],
   "source": [
    "#- 기사 제목을 출력합니다.\n",
    "print('기사 제목 :')\n",
    "print(article.title)\n",
    "print('')\n",
    "\n",
    "#- 기사 내용을 출력합니다.\n",
    "print('기사 내용 :')\n",
    "print(article.text)"
   ]
  },
  {
   "cell_type": "markdown",
   "metadata": {},
   "source": [
    "### 뉴스 URL 구조\n",
    "* `&sid1=` : 뉴스가 속한 카테고리의 번호\n",
    "    * 100 : 정치\n",
    "    * 101 : 경제\n",
    "    * 102 : 사회\n",
    "    * 103 : 생활/문화\n",
    "    * 104 : 세계\n",
    "    * 105 : IT/과학\n",
    "    * 110 : 오피니언\n",
    "* `&date=` : 해당 뉴스들이 속한 날짜\n",
    "* `&page=` : 몇 페이지인가"
   ]
  },
  {
   "cell_type": "markdown",
   "metadata": {},
   "source": [
    "# 뉴스 크롤러 만들기"
   ]
  },
  {
   "cell_type": "code",
   "execution_count": 10,
   "metadata": {},
   "outputs": [],
   "source": [
    "# 크롤러를 만들기 전 필요한 도구들을 임포트합니다.\n",
    "import requests\n",
    "import pandas as pd\n",
    "from bs4 import BeautifulSoup\n",
    "\n",
    "# 페이지 수, 카테고리, 날짜를 입력값으로 받습니다.\n",
    "def make_urllist(page_num, code, date): \n",
    "    urllist= []\n",
    "    for i in range(1, page_num + 1):\n",
    "        url = 'https://news.naver.com/main/list.nhn?mode=LSD&mid=sec&sid1='+str(code)+'&date='+str(date)+'&page='+str(i)\n",
    "        headers = {'User-Agent': 'Mozilla/5.0 (X11; Linux x86_64) AppleWebKit/537.36 (KHTML, like Gecko) Chrome/54.0.2840.90 Safari/537.36'}\n",
    "        news = requests.get(url, headers=headers)\n",
    "\n",
    "    # BeautifulSoup의 인스턴스 생성합니다. 파서는 html.parser를 사용합니다.\n",
    "    soup = BeautifulSoup(news.content, 'html.parser')\n",
    "\n",
    "    # CASE 1\n",
    "    news_list = soup.select('.newsflash_body .type06_headline li dl')\n",
    "    # CASE 2\n",
    "    news_list.extend(soup.select('.newsflash_body .type06 li dl'))\n",
    "        \n",
    "    # 각 뉴스로부터 a 태그인 <a href ='주소'> 에서 '주소'만을 가져옵니다.\n",
    "    for line in news_list:\n",
    "        urllist.append(line.a.get('href'))\n",
    "    \n",
    "    return urllist"
   ]
  },
  {
   "cell_type": "code",
   "execution_count": 11,
   "metadata": {},
   "outputs": [
    {
     "name": "stdout",
     "output_type": "stream",
     "text": [
      "뉴스 기사의 개수:  20\n"
     ]
    }
   ],
   "source": [
    "url_list = make_urllist(2, 101, 20200506)\n",
    "print('뉴스 기사의 개수: ',len(url_list))"
   ]
  },
  {
   "cell_type": "code",
   "execution_count": 12,
   "metadata": {},
   "outputs": [
    {
     "data": {
      "text/plain": [
       "['https://news.naver.com/main/read.nhn?mode=LSD&mid=sec&sid1=101&oid=057&aid=0001451707',\n",
       " 'https://news.naver.com/main/read.nhn?mode=LSD&mid=sec&sid1=101&oid=001&aid=0011591771',\n",
       " 'https://news.naver.com/main/read.nhn?mode=LSD&mid=sec&sid1=101&oid=057&aid=0001451706',\n",
       " 'https://news.naver.com/main/read.nhn?mode=LSD&mid=sec&sid1=101&oid=008&aid=0004404654',\n",
       " 'https://news.naver.com/main/read.nhn?mode=LSD&mid=sec&sid1=101&oid=022&aid=0003462769']"
      ]
     },
     "execution_count": 12,
     "metadata": {},
     "output_type": "execute_result"
    }
   ],
   "source": [
    "url_list[:5]"
   ]
  },
  {
   "cell_type": "code",
   "execution_count": 13,
   "metadata": {},
   "outputs": [],
   "source": [
    "idx2word = {'101' : '경제', '102' : '사회', '103' : '생활/문화', '105' : 'IT/과학'}"
   ]
  },
  {
   "cell_type": "code",
   "execution_count": 14,
   "metadata": {},
   "outputs": [],
   "source": [
    "from newspaper import Article\n",
    "\n",
    "#- 데이터프레임을 생성하는 함수입니다.\n",
    "def make_data(urllist, code):\n",
    "    text_list = []\n",
    "    for url in urllist:\n",
    "        article = Article(url, language='ko')\n",
    "        article.download()\n",
    "        article.parse()\n",
    "        text_list.append(article.text)\n",
    "\n",
    "    #- 데이터프레임의 'news' 키 아래 파싱한 텍스트를 밸류로 붙여줍니다.\n",
    "    df = pd.DataFrame({'news': text_list})\n",
    "\n",
    "    #- 데이터프레임의 'code' 키 아래 한글 카테고리명을 붙여줍니다.\n",
    "    df['code'] = idx2word[str(code)]\n",
    "    \n",
    "    return df"
   ]
  },
  {
   "cell_type": "code",
   "execution_count": 15,
   "metadata": {},
   "outputs": [
    {
     "data": {
      "text/html": [
       "<div>\n",
       "<style scoped>\n",
       "    .dataframe tbody tr th:only-of-type {\n",
       "        vertical-align: middle;\n",
       "    }\n",
       "\n",
       "    .dataframe tbody tr th {\n",
       "        vertical-align: top;\n",
       "    }\n",
       "\n",
       "    .dataframe thead th {\n",
       "        text-align: right;\n",
       "    }\n",
       "</style>\n",
       "<table border=\"1\" class=\"dataframe\">\n",
       "  <thead>\n",
       "    <tr style=\"text-align: right;\">\n",
       "      <th></th>\n",
       "      <th>news</th>\n",
       "      <th>code</th>\n",
       "    </tr>\n",
       "  </thead>\n",
       "  <tbody>\n",
       "    <tr>\n",
       "      <th>0</th>\n",
       "      <td>휴온스USA가 최근 미국 워싱턴 주정부에 방역용품 공급 업체로 선정돼 물품 공급에 ...</td>\n",
       "      <td>경제</td>\n",
       "    </tr>\n",
       "    <tr>\n",
       "      <th>1</th>\n",
       "      <td>(뉴욕=연합뉴스) 오진우 연합인포맥스 특파원 = 뉴욕증시에서 주요 지수는 6일 미국...</td>\n",
       "      <td>경제</td>\n",
       "    </tr>\n",
       "    <tr>\n",
       "      <th>2</th>\n",
       "      <td>bhc치킨이 포근해진 날씨와 가정의 달을 맞아 다 함께 즐길 수 있는 연령대별 맞춤...</td>\n",
       "      <td>경제</td>\n",
       "    </tr>\n",
       "    <tr>\n",
       "      <th>3</th>\n",
       "      <td>기사 섹션 분류 안내\\n\\n기사의 섹션 정보는 해당 언론사의 분류를 따르고 있습니다...</td>\n",
       "      <td>경제</td>\n",
       "    </tr>\n",
       "    <tr>\n",
       "      <th>4</th>\n",
       "      <td>이재용 삼성전자 부회장이 6일 자신과 삼성의 과오와 관련해 대국민 사과를 했다. 이...</td>\n",
       "      <td>경제</td>\n",
       "    </tr>\n",
       "    <tr>\n",
       "      <th>5</th>\n",
       "      <td>이재용 삼성전자 부회장이 6일 대국민 사과에서 내놓은 핵심 메시지의 하나는 ‘무노조...</td>\n",
       "      <td>경제</td>\n",
       "    </tr>\n",
       "    <tr>\n",
       "      <th>6</th>\n",
       "      <td>PICK 안내 해당 언론사가 주요기사로\\n\\n직접 선정한 기사입니다. 언론사 편집판...</td>\n",
       "      <td>경제</td>\n",
       "    </tr>\n",
       "    <tr>\n",
       "      <th>7</th>\n",
       "      <td>씨엘바이오가 가정의 달 5월을 맞아 코로나19에 가장 취약한 요양기관 어르신을 위해...</td>\n",
       "      <td>경제</td>\n",
       "    </tr>\n",
       "    <tr>\n",
       "      <th>8</th>\n",
       "      <td>코로나19 확산으로 내국인의 해외여행이 거의 중단되면서 아웃바운드 여행업체 1위인 ...</td>\n",
       "      <td>경제</td>\n",
       "    </tr>\n",
       "    <tr>\n",
       "      <th>9</th>\n",
       "      <td>제너럴모터스(GM) 기업 로고 /AFP연합뉴스 제너럴모터스(GM) 기업 로고 /AF...</td>\n",
       "      <td>경제</td>\n",
       "    </tr>\n",
       "  </tbody>\n",
       "</table>\n",
       "</div>"
      ],
      "text/plain": [
       "                                                news code\n",
       "0  휴온스USA가 최근 미국 워싱턴 주정부에 방역용품 공급 업체로 선정돼 물품 공급에 ...   경제\n",
       "1  (뉴욕=연합뉴스) 오진우 연합인포맥스 특파원 = 뉴욕증시에서 주요 지수는 6일 미국...   경제\n",
       "2  bhc치킨이 포근해진 날씨와 가정의 달을 맞아 다 함께 즐길 수 있는 연령대별 맞춤...   경제\n",
       "3  기사 섹션 분류 안내\\n\\n기사의 섹션 정보는 해당 언론사의 분류를 따르고 있습니다...   경제\n",
       "4  이재용 삼성전자 부회장이 6일 자신과 삼성의 과오와 관련해 대국민 사과를 했다. 이...   경제\n",
       "5  이재용 삼성전자 부회장이 6일 대국민 사과에서 내놓은 핵심 메시지의 하나는 ‘무노조...   경제\n",
       "6  PICK 안내 해당 언론사가 주요기사로\\n\\n직접 선정한 기사입니다. 언론사 편집판...   경제\n",
       "7  씨엘바이오가 가정의 달 5월을 맞아 코로나19에 가장 취약한 요양기관 어르신을 위해...   경제\n",
       "8  코로나19 확산으로 내국인의 해외여행이 거의 중단되면서 아웃바운드 여행업체 1위인 ...   경제\n",
       "9  제너럴모터스(GM) 기업 로고 /AFP연합뉴스 제너럴모터스(GM) 기업 로고 /AF...   경제"
      ]
     },
     "execution_count": 15,
     "metadata": {},
     "output_type": "execute_result"
    }
   ],
   "source": [
    "data = make_data(url_list, 101)\n",
    "#- 상위 10개만 출력해봅니다.\n",
    "data[:10]"
   ]
  },
  {
   "cell_type": "code",
   "execution_count": 16,
   "metadata": {},
   "outputs": [
    {
     "data": {
      "text/plain": [
       "[102, 103, 105]"
      ]
     },
     "execution_count": 16,
     "metadata": {},
     "output_type": "execute_result"
    }
   ],
   "source": [
    "code_list = [102, 103, 105]\n",
    "\n",
    "code_list"
   ]
  },
  {
   "cell_type": "code",
   "execution_count": 22,
   "metadata": {},
   "outputs": [],
   "source": [
    "def make_total_data(page_num, code_list, date):\n",
    "    df = None\n",
    "\n",
    "    for code in code_list:\n",
    "        url_list = make_urllist(page_num, code, date)\n",
    "        df_temp = make_data(url_list, code)\n",
    "        print(str(code)+'번 코드에 대한 데이터를 만들었습니다.')\n",
    "\n",
    "        if df is not None:\n",
    "            df = pd.concat([df, df_temp])\n",
    "        else:\n",
    "            df = df_temp\n",
    "\n",
    "    return df"
   ]
  },
  {
   "cell_type": "code",
   "execution_count": 23,
   "metadata": {},
   "outputs": [
    {
     "name": "stdout",
     "output_type": "stream",
     "text": [
      "102번 코드에 대한 데이터를 만들었습니다.\n",
      "103번 코드에 대한 데이터를 만들었습니다.\n",
      "105번 코드에 대한 데이터를 만들었습니다.\n"
     ]
    }
   ],
   "source": [
    "df = make_total_data(1, code_list, 20200506)"
   ]
  },
  {
   "cell_type": "code",
   "execution_count": 24,
   "metadata": {},
   "outputs": [
    {
     "name": "stdout",
     "output_type": "stream",
     "text": [
      "뉴스 기사의 개수:  60\n"
     ]
    }
   ],
   "source": [
    "print('뉴스 기사의 개수: ',len(df))"
   ]
  },
  {
   "cell_type": "code",
   "execution_count": 25,
   "metadata": {},
   "outputs": [
    {
     "data": {
      "text/html": [
       "<div>\n",
       "<style scoped>\n",
       "    .dataframe tbody tr th:only-of-type {\n",
       "        vertical-align: middle;\n",
       "    }\n",
       "\n",
       "    .dataframe tbody tr th {\n",
       "        vertical-align: top;\n",
       "    }\n",
       "\n",
       "    .dataframe thead th {\n",
       "        text-align: right;\n",
       "    }\n",
       "</style>\n",
       "<table border=\"1\" class=\"dataframe\">\n",
       "  <thead>\n",
       "    <tr style=\"text-align: right;\">\n",
       "      <th></th>\n",
       "      <th>news</th>\n",
       "      <th>code</th>\n",
       "    </tr>\n",
       "  </thead>\n",
       "  <tbody>\n",
       "    <tr>\n",
       "      <th>17</th>\n",
       "      <td>[디지털데일리 이종현기자] 공공시설을 이용하거나 공공기관 운영 강좌 수강을 신청할 ...</td>\n",
       "      <td>IT/과학</td>\n",
       "    </tr>\n",
       "    <tr>\n",
       "      <th>14</th>\n",
       "      <td>한남대 조형예술학부 회화전공 박경범 교수(왼쪽)가 이광섭 총장에게 발전기금 1000...</td>\n",
       "      <td>생활/문화</td>\n",
       "    </tr>\n",
       "    <tr>\n",
       "      <th>2</th>\n",
       "      <td>(서울=연합뉴스) 대한약사회가 6일부터 코로나바이러스 감염증 대응 체계를 '사회적 ...</td>\n",
       "      <td>IT/과학</td>\n",
       "    </tr>\n",
       "    <tr>\n",
       "      <th>8</th>\n",
       "      <td>[서울=뉴시스] 박주연 기자 = BMW 공식 딜러 바바리안모터스가 프로야구단 SK와...</td>\n",
       "      <td>생활/문화</td>\n",
       "    </tr>\n",
       "    <tr>\n",
       "      <th>10</th>\n",
       "      <td>기사 섹션 분류 안내\\n\\n기사의 섹션 정보는 해당 언론사의 분류를 따르고 있습니다...</td>\n",
       "      <td>생활/문화</td>\n",
       "    </tr>\n",
       "    <tr>\n",
       "      <th>3</th>\n",
       "      <td>©아가타 파리(AGATHA PARIS) ©아가타 파리(AGATHA PARIS)\\n\\...</td>\n",
       "      <td>생활/문화</td>\n",
       "    </tr>\n",
       "    <tr>\n",
       "      <th>9</th>\n",
       "      <td>기사 섹션 분류 안내\\n\\n기사의 섹션 정보는 해당 언론사의 분류를 따르고 있습니다...</td>\n",
       "      <td>생활/문화</td>\n",
       "    </tr>\n",
       "    <tr>\n",
       "      <th>15</th>\n",
       "      <td>[서울경제] 넷플릭스의 망 무임승차와 텔레그램의 불법 촬영물 유통을 막는 법안이 국...</td>\n",
       "      <td>IT/과학</td>\n",
       "    </tr>\n",
       "    <tr>\n",
       "      <th>10</th>\n",
       "      <td>/사진=뉴스1 /사진=뉴스1\\n\\n[파이낸셜뉴스] 과학기술정보통신부가 6일 1조원대...</td>\n",
       "      <td>IT/과학</td>\n",
       "    </tr>\n",
       "    <tr>\n",
       "      <th>6</th>\n",
       "      <td>기사 섹션 분류 안내\\n\\n기사의 섹션 정보는 해당 언론사의 분류를 따르고 있습니다...</td>\n",
       "      <td>생활/문화</td>\n",
       "    </tr>\n",
       "  </tbody>\n",
       "</table>\n",
       "</div>"
      ],
      "text/plain": [
       "                                                 news   code\n",
       "17  [디지털데일리 이종현기자] 공공시설을 이용하거나 공공기관 운영 강좌 수강을 신청할 ...  IT/과학\n",
       "14  한남대 조형예술학부 회화전공 박경범 교수(왼쪽)가 이광섭 총장에게 발전기금 1000...  생활/문화\n",
       "2   (서울=연합뉴스) 대한약사회가 6일부터 코로나바이러스 감염증 대응 체계를 '사회적 ...  IT/과학\n",
       "8   [서울=뉴시스] 박주연 기자 = BMW 공식 딜러 바바리안모터스가 프로야구단 SK와...  생활/문화\n",
       "10  기사 섹션 분류 안내\\n\\n기사의 섹션 정보는 해당 언론사의 분류를 따르고 있습니다...  생활/문화\n",
       "3   ©아가타 파리(AGATHA PARIS) ©아가타 파리(AGATHA PARIS)\\n\\...  생활/문화\n",
       "9   기사 섹션 분류 안내\\n\\n기사의 섹션 정보는 해당 언론사의 분류를 따르고 있습니다...  생활/문화\n",
       "15  [서울경제] 넷플릭스의 망 무임승차와 텔레그램의 불법 촬영물 유통을 막는 법안이 국...  IT/과학\n",
       "10  /사진=뉴스1 /사진=뉴스1\\n\\n[파이낸셜뉴스] 과학기술정보통신부가 6일 1조원대...  IT/과학\n",
       "6   기사 섹션 분류 안내\\n\\n기사의 섹션 정보는 해당 언론사의 분류를 따르고 있습니다...  생활/문화"
      ]
     },
     "execution_count": 25,
     "metadata": {},
     "output_type": "execute_result"
    }
   ],
   "source": [
    "df.sample(10) #임의로 10개의 샘플 출력"
   ]
  },
  {
   "cell_type": "code",
   "execution_count": 26,
   "metadata": {},
   "outputs": [
    {
     "name": "stdout",
     "output_type": "stream",
     "text": [
      "102번 코드에 대한 데이터를 만들었습니다.\n",
      "103번 코드에 대한 데이터를 만들었습니다.\n",
      "105번 코드에 대한 데이터를 만들었습니다.\n"
     ]
    }
   ],
   "source": [
    "# 실제 크롤링\n",
    "df = make_total_data(10, code_list, 20200506)"
   ]
  },
  {
   "cell_type": "code",
   "execution_count": 27,
   "metadata": {},
   "outputs": [
    {
     "name": "stdout",
     "output_type": "stream",
     "text": [
      "/home/dasol-ubuntu/workspace/Modulabs-Dasol/Study/assets/news_crawler/news_data_test.csv File Saved!\n"
     ]
    }
   ],
   "source": [
    "import os\n",
    "\n",
    "# 데이터프레임 파일을 csv 파일로 저장\n",
    "csv_path = os.getenv(\"HOME\") + \"/workspace/Modulabs-Dasol/Study/assets/news_crawler/news_data_test.csv\"\n",
    "df.to_csv(csv_path, index=False)\n",
    "\n",
    "if os.path.exists(csv_path):\n",
    "    print('{} File Saved!'.format(csv_path))"
   ]
  },
  {
   "cell_type": "markdown",
   "metadata": {},
   "source": [
    "# Data Preprocessing"
   ]
  },
  {
   "cell_type": "code",
   "execution_count": 28,
   "metadata": {},
   "outputs": [
    {
     "data": {
      "text/html": [
       "<div>\n",
       "<style scoped>\n",
       "    .dataframe tbody tr th:only-of-type {\n",
       "        vertical-align: middle;\n",
       "    }\n",
       "\n",
       "    .dataframe tbody tr th {\n",
       "        vertical-align: top;\n",
       "    }\n",
       "\n",
       "    .dataframe thead th {\n",
       "        text-align: right;\n",
       "    }\n",
       "</style>\n",
       "<table border=\"1\" class=\"dataframe\">\n",
       "  <thead>\n",
       "    <tr style=\"text-align: right;\">\n",
       "      <th></th>\n",
       "      <th>news</th>\n",
       "      <th>code</th>\n",
       "    </tr>\n",
       "  </thead>\n",
       "  <tbody>\n",
       "    <tr>\n",
       "      <th>0</th>\n",
       "      <td>경찰 관련 이미지. 사진=게티이미지 경찰 관련 이미지. 사진=게티이미지\\n\\n함께 ...</td>\n",
       "      <td>사회</td>\n",
       "    </tr>\n",
       "    <tr>\n",
       "      <th>1</th>\n",
       "      <td>동영상 뉴스\\n\\n경기 용인시에서 28일 만에 처음으로 지역사회 감염 코로나19 확...</td>\n",
       "      <td>사회</td>\n",
       "    </tr>\n",
       "    <tr>\n",
       "      <th>2</th>\n",
       "      <td>이기형 경기도의원은 “한강신도시 운양동 지역의‘운양1 초·중 병설학교’ 신설 건이 ...</td>\n",
       "      <td>사회</td>\n",
       "    </tr>\n",
       "    <tr>\n",
       "      <th>3</th>\n",
       "      <td>6일 오후 이천시 서희청소년문화센터에 마련된 이천 물류창고 공사장 화재참사 분향소에...</td>\n",
       "      <td>사회</td>\n",
       "    </tr>\n",
       "    <tr>\n",
       "      <th>4</th>\n",
       "      <td>이재명 경기도지사가 6일 오후 SNS를 통해 ‘경기도 계곡정비 현황 보고’를 통해 ...</td>\n",
       "      <td>사회</td>\n",
       "    </tr>\n",
       "  </tbody>\n",
       "</table>\n",
       "</div>"
      ],
      "text/plain": [
       "                                                news code\n",
       "0  경찰 관련 이미지. 사진=게티이미지 경찰 관련 이미지. 사진=게티이미지\\n\\n함께 ...   사회\n",
       "1  동영상 뉴스\\n\\n경기 용인시에서 28일 만에 처음으로 지역사회 감염 코로나19 확...   사회\n",
       "2  이기형 경기도의원은 “한강신도시 운양동 지역의‘운양1 초·중 병설학교’ 신설 건이 ...   사회\n",
       "3  6일 오후 이천시 서희청소년문화센터에 마련된 이천 물류창고 공사장 화재참사 분향소에...   사회\n",
       "4  이재명 경기도지사가 6일 오후 SNS를 통해 ‘경기도 계곡정비 현황 보고’를 통해 ...   사회"
      ]
     },
     "execution_count": 28,
     "metadata": {},
     "output_type": "execute_result"
    }
   ],
   "source": [
    "csv_path = os.getenv(\"HOME\") + \"/workspace/Modulabs-Dasol/Study/assets/news_crawler/news_data_test.csv\"\n",
    "df = pd.read_table(csv_path, sep=',')\n",
    "df.head()"
   ]
  },
  {
   "cell_type": "markdown",
   "metadata": {},
   "source": [
    "### 정규 표현식으로 한글 외 특수문자 제거"
   ]
  },
  {
   "cell_type": "code",
   "execution_count": 30,
   "metadata": {},
   "outputs": [
    {
     "data": {
      "text/plain": [
       "0      파주시청 사진제공파주시 파주시청 사진제공파주시파주파이낸셜뉴스 강근주 기자 파주시는 ...\n",
       "1      동영상 뉴스이천 물류창고 화재 발화지점으로 지목된 지하 층에서 산소절단기의 산소 공...\n",
       "2      황범순 의정부시 부시장 을지대학교 의정부캠퍼스 및 부속병원 공사현장 안전점검 사진제...\n",
       "3      귀갓길 여성을 쫓아가 성범죄를 시도한 대 남성이 구속됐습니다서울 강남경찰서는 강간상...\n",
       "4      서울연합뉴스 대한약사회가 일부터 코로나바이러스 감염증 대응 체계를 사회적 거리두기에...\n",
       "                             ...                        \n",
       "595    지디넷코리아이도원 기자스마일게이트알피지대표 지원길는 블록버스터 핵앤슬래시 다중접속역...\n",
       "596    모두의셔틀 로고 모두의셔틀 제공  뉴스 모두의셔틀 로고 모두의셔틀 제공  뉴스서울뉴...\n",
       "597    휴온스의 신종 코로나바이러스 감염증코로나 관련 방역용품이 미국 수출길에 오른다휴온스...\n",
       "598    코로나 치료제백신 개발 범정부 지원단은 오늘일부터 이틀 동안 관련 기업들을 대상으로...\n",
       "599      전자신문  전자신문인터넷 무단전재 및 재배포 금지이재용 삼성전자 부회장이 세 경...\n",
       "Name: news, Length: 600, dtype: object"
      ]
     },
     "execution_count": 30,
     "metadata": {},
     "output_type": "execute_result"
    }
   ],
   "source": [
    "# 정규 표현식을 이용해서 한글 외의 문자는 전부 제거합니다.\n",
    "df['news'] = df['news'].str.replace(\"[^ㄱ-ㅎㅏ-ㅣ가-힣 ]\",\"\")\n",
    "df['news']"
   ]
  },
  {
   "cell_type": "markdown",
   "metadata": {},
   "source": [
    "### 결측치 제거"
   ]
  },
  {
   "cell_type": "code",
   "execution_count": 31,
   "metadata": {},
   "outputs": [
    {
     "name": "stdout",
     "output_type": "stream",
     "text": [
      "news    0\n",
      "code    0\n",
      "dtype: int64\n"
     ]
    }
   ],
   "source": [
    "print(df.isnull().sum())"
   ]
  },
  {
   "cell_type": "markdown",
   "metadata": {},
   "source": [
    "### 중복 제거"
   ]
  },
  {
   "cell_type": "code",
   "execution_count": 32,
   "metadata": {},
   "outputs": [
    {
     "name": "stdout",
     "output_type": "stream",
     "text": [
      "뉴스 기사의 개수:  552\n"
     ]
    }
   ],
   "source": [
    "# 중복된 샘플들을 제거합니다.\n",
    "df.drop_duplicates(subset=['news'], inplace=True)\n",
    "\n",
    "print('뉴스 기사의 개수: ',len(df))"
   ]
  },
  {
   "cell_type": "code",
   "execution_count": 33,
   "metadata": {},
   "outputs": [
    {
     "name": "stdout",
     "output_type": "stream",
     "text": [
      "뉴스 기사의 개수:  552\n"
     ]
    }
   ],
   "source": [
    "# 중복 샘플 제거\n",
    "df.drop_duplicates(subset=['news'], inplace=True)\n",
    "\n",
    "print('뉴스 기사의 개수: ',len(df))"
   ]
  },
  {
   "cell_type": "markdown",
   "metadata": {},
   "source": [
    "### Matplotlib 한글폰트 설정"
   ]
  },
  {
   "cell_type": "code",
   "execution_count": 37,
   "metadata": {},
   "outputs": [],
   "source": [
    "import matplotlib\n",
    "import matplotlib.pyplot as plt\n",
    "import matplotlib.font_manager as fm"
   ]
  },
  {
   "cell_type": "code",
   "execution_count": 36,
   "metadata": {},
   "outputs": [
    {
     "name": "stdout",
     "output_type": "stream",
     "text": [
      "['/usr/share/fonts/truetype/freefont/FreeSansBold.ttf', '/usr/share/fonts/truetype/lohit-bengali/Lohit-Bengali.ttf', '/usr/share/fonts/truetype/liberation2/LiberationSans-Regular.ttf', '/usr/share/fonts/truetype/kacst/KacstDigital.ttf', '/usr/share/fonts/truetype/fonts-deva-extra/chandas1-2.ttf', '/usr/share/fonts/truetype/fonts-telu-extra/vemana2000.ttf', '/usr/share/fonts/truetype/lohit-devanagari/Lohit-Devanagari.ttf', '/usr/share/fonts/truetype/Gargi/Gargi.ttf', '/usr/share/fonts/truetype/kacst/KacstNaskh.ttf', '/usr/share/fonts/truetype/fonts-orya-extra/utkal.ttf', '/usr/share/fonts/truetype/tlwg/Umpush-BoldOblique.ttf', '/usr/share/fonts/truetype/tlwg/TlwgTypo.ttf', '/usr/share/fonts/truetype/kacst/KacstFarsi.ttf', '/usr/share/fonts/truetype/malayalam/Karumbi.ttf', '/usr/share/fonts/truetype/tlwg/TlwgTypewriter-Oblique.ttf', '/usr/share/fonts/truetype/fonts-gujr-extra/padmaa-Bold.1.1.ttf', '/usr/share/fonts/truetype/freefont/FreeSansBoldOblique.ttf', '/usr/share/fonts/truetype/tibetan-machine/TibetanMachineUni.ttf', '/usr/share/fonts/truetype/fonts-guru-extra/Saab.ttf', '/usr/share/fonts/truetype/padauk/Padauk-Regular.ttf', '/usr/share/fonts/truetype/fonts-deva-extra/samanata.ttf', '/usr/share/fonts/truetype/tlwg/Purisa.ttf', '/usr/share/fonts/truetype/tlwg/Purisa-Oblique.ttf', '/usr/share/fonts/truetype/tlwg/TlwgTypist-Oblique.ttf', '/usr/share/fonts/truetype/tlwg/Norasi-BoldItalic.ttf', '/usr/share/fonts/truetype/tlwg/Sawasdee.ttf', '/usr/share/fonts/truetype/tlwg/TlwgMono-BoldOblique.ttf', '/usr/share/fonts/truetype/tlwg/Norasi-Bold.ttf', '/usr/share/fonts/truetype/malayalam/Chilanka-Regular.ttf', '/usr/share/fonts/truetype/tlwg/Umpush-LightOblique.ttf', '/usr/share/fonts/truetype/ubuntu/Ubuntu-R.ttf', '/usr/share/fonts/truetype/samyak/Samyak-Devanagari.ttf', '/usr/share/fonts/truetype/freefont/FreeSerif.ttf', '/usr/share/fonts/truetype/freefont/FreeMonoBoldOblique.ttf', '/usr/share/fonts/truetype/ubuntu/Ubuntu-MI.ttf', '/usr/share/fonts/truetype/malayalam/Rachana-Regular.ttf', '/usr/share/fonts/truetype/liberation/LiberationMono-Italic.ttf', '/usr/share/fonts/truetype/fonts-beng-extra/MuktiNarrow.ttf', '/usr/share/fonts/truetype/tlwg/TlwgTypist.ttf', '/usr/share/fonts/truetype/ubuntu/UbuntuMono-BI.ttf', '/usr/share/fonts/truetype/sinhala/lklug.ttf', '/usr/share/fonts/truetype/pagul/Pagul.ttf', '/usr/share/fonts/truetype/lohit-tamil-classical/Lohit-Tamil-Classical.ttf', '/usr/share/fonts/truetype/fonts-telu-extra/Pothana2000.ttf', '/usr/share/fonts/truetype/tlwg/Waree-Oblique.ttf', '/usr/share/fonts/truetype/tlwg/Umpush-Bold.ttf', '/usr/share/fonts/truetype/tlwg/Loma-Bold.ttf', '/usr/share/fonts/truetype/lohit-oriya/Lohit-Odia.ttf', '/usr/share/fonts/truetype/noto/NotoMono-Regular.ttf', '/usr/share/fonts/truetype/liberation2/LiberationSans-Italic.ttf', '/usr/share/fonts/truetype/tlwg/Umpush-Light.ttf', '/usr/share/fonts/truetype/ubuntu/UbuntuMono-R.ttf', '/usr/share/fonts/truetype/tlwg/Kinnari.ttf', '/usr/share/fonts/truetype/Nakula/nakula.ttf', '/usr/share/fonts/truetype/noto/NotoColorEmoji.ttf', '/usr/share/fonts/truetype/lohit-tamil/Lohit-Tamil.ttf', '/usr/share/fonts/truetype/tlwg/TlwgMono-Bold.ttf', '/usr/share/fonts/truetype/malayalam/Uroob.ttf', '/usr/share/fonts/truetype/fonts-gujr-extra/padmaa-Medium-0.5.ttf', '/usr/share/fonts/truetype/fonts-deva-extra/kalimati.ttf', '/usr/share/fonts/truetype/dejavu/DejaVuSerif.ttf', '/usr/share/fonts/truetype/liberation/LiberationSans-Regular.ttf', '/usr/share/fonts/truetype/openoffice/opens___.ttf', '/usr/share/fonts/opentype/noto/NotoSerifCJK-Black.ttc', '/usr/share/fonts/truetype/kacst/KacstArt.ttf', '/usr/share/fonts/truetype/fonts-beng-extra/JamrulNormal.ttf', '/usr/share/fonts/truetype/liberation2/LiberationSerif-BoldItalic.ttf', '/usr/share/fonts/truetype/freefont/FreeMono.ttf', '/usr/share/fonts/truetype/dejavu/DejaVuSans-Bold.ttf', '/usr/share/fonts/truetype/tlwg/Purisa-BoldOblique.ttf', '/usr/share/fonts/opentype/noto/NotoSansCJK-Bold.ttc', '/usr/share/fonts/truetype/malayalam/Keraleeyam.ttf', '/usr/share/fonts/truetype/Navilu/Navilu.ttf', '/usr/share/fonts/truetype/tlwg/TlwgTypewriter-BoldOblique.ttf', '/usr/share/fonts/truetype/tlwg/Loma-BoldOblique.ttf', '/usr/share/fonts/truetype/tlwg/Kinnari-BoldItalic.ttf', '/usr/share/fonts/truetype/ubuntu/Ubuntu-M.ttf', '/usr/share/fonts/truetype/tlwg/Garuda-Oblique.ttf', '/usr/share/fonts/opentype/noto/NotoSansCJK-Light.ttc', '/usr/share/fonts/truetype/malayalam/Dyuthi.ttf', '/usr/share/fonts/truetype/dejavu/DejaVuSansMono.ttf', '/usr/share/fonts/truetype/padauk/PadaukBook-Regular.ttf', '/usr/share/fonts/truetype/freefont/FreeSans.ttf', '/usr/share/fonts/opentype/noto/NotoSansCJK-Black.ttc', '/usr/share/fonts/truetype/liberation/LiberationSerif-BoldItalic.ttf', '/usr/share/fonts/truetype/samyak-fonts/Samyak-Malayalam.ttf', '/usr/share/fonts/truetype/padauk/PadaukBook-Bold.ttf', '/usr/share/fonts/truetype/malayalam/AnjaliOldLipi.ttf', '/usr/share/fonts/truetype/malayalam/Rachana-Bold.ttf', '/usr/share/fonts/truetype/ubuntu/UbuntuMono-B.ttf', '/usr/share/fonts/truetype/tlwg/Laksaman-Italic.ttf', '/usr/share/fonts/truetype/tlwg/Garuda.ttf', '/usr/share/fonts/truetype/lohit-gujarati/Lohit-Gujarati.ttf', '/usr/share/fonts/opentype/noto/NotoSansCJK-DemiLight.ttc', '/usr/share/fonts/truetype/droid/DroidSansFallbackFull.ttf', '/usr/share/fonts/truetype/tlwg/Waree.ttf', '/usr/share/fonts/opentype/noto/NotoSerifCJK-Light.ttc', '/usr/share/fonts/truetype/liberation/LiberationSansNarrow-Italic.ttf', '/usr/share/fonts/truetype/freefont/FreeMonoOblique.ttf', '/usr/share/fonts/truetype/fonts-kalapi/Kalapi.ttf', '/usr/share/fonts/opentype/noto/NotoSerifCJK-Medium.ttc', '/usr/share/fonts/truetype/liberation/LiberationMono-BoldItalic.ttf', '/usr/share/fonts/truetype/liberation/LiberationSansNarrow-BoldItalic.ttf', '/usr/share/fonts/truetype/kacst/KacstLetter.ttf', '/usr/share/fonts/truetype/tlwg/Sawasdee-Oblique.ttf', '/usr/share/fonts/truetype/tlwg/Norasi-Italic.ttf', '/usr/share/fonts/truetype/lohit-punjabi/Lohit-Gurmukhi.ttf', '/usr/share/fonts/truetype/liberation/LiberationSerif-Bold.ttf', '/usr/share/fonts/truetype/ubuntu/Ubuntu-L.ttf', '/usr/share/fonts/truetype/lohit-assamese/Lohit-Assamese.ttf', '/usr/share/fonts/truetype/fonts-beng-extra/mitra.ttf', '/usr/share/fonts/truetype/dejavu/DejaVuSansMono-Bold.ttf', '/usr/share/fonts/truetype/liberation/LiberationSans-Bold.ttf', '/usr/share/fonts/truetype/kacst/KacstTitleL.ttf', '/usr/share/fonts/truetype/lao/Phetsarath_OT.ttf', '/usr/share/fonts/truetype/malayalam/RaghuMalayalamSans-Regular.ttf', '/usr/share/fonts/opentype/noto/NotoSerifCJK-Bold.ttc', '/usr/share/fonts/truetype/tlwg/Laksaman.ttf', '/usr/share/fonts/truetype/tlwg/Purisa-Bold.ttf', '/usr/share/fonts/truetype/liberation2/LiberationSerif-Regular.ttf', '/usr/share/fonts/truetype/tlwg/Umpush.ttf', '/usr/share/fonts/opentype/noto/NotoSansCJK-Thin.ttc', '/usr/share/fonts/truetype/tlwg/TlwgTypewriter.ttf', '/usr/share/fonts/truetype/kacst-one/KacstOne.ttf', '/usr/share/fonts/truetype/liberation2/LiberationMono-Regular.ttf', '/usr/share/fonts/truetype/tlwg/Kinnari-Oblique.ttf', '/usr/share/fonts/truetype/freefont/FreeSerifBold.ttf', '/usr/share/fonts/truetype/kacst/KacstDecorative.ttf', '/usr/share/fonts/truetype/liberation2/LiberationSerif-Bold.ttf', '/usr/share/fonts/truetype/ttf-khmeros-core/KhmerOSsys.ttf', '/usr/share/fonts/truetype/liberation2/LiberationMono-BoldItalic.ttf', '/usr/share/fonts/truetype/tlwg/Garuda-BoldOblique.ttf', '/usr/share/fonts/truetype/liberation/LiberationSansNarrow-Bold.ttf', '/usr/share/fonts/truetype/lohit-telugu/Lohit-Telugu.ttf', '/usr/share/fonts/truetype/tlwg/Laksaman-BoldItalic.ttf', '/usr/share/fonts/truetype/ubuntu/Ubuntu-RI.ttf', '/usr/share/fonts/truetype/fonts-gujr-extra/Rekha.ttf', '/usr/share/fonts/truetype/abyssinica/AbyssinicaSIL-R.ttf', '/usr/share/fonts/truetype/tlwg/Loma-Oblique.ttf', '/usr/share/fonts/truetype/liberation/LiberationSerif-Regular.ttf', '/usr/share/fonts/truetype/dejavu/DejaVuSans.ttf', '/usr/share/fonts/truetype/tlwg/Norasi-Oblique.ttf', '/usr/share/fonts/opentype/malayalam/Manjari-Thin.otf', '/usr/share/fonts/truetype/liberation2/LiberationSerif-Italic.ttf', '/usr/share/fonts/truetype/ubuntu/Ubuntu-LI.ttf', '/usr/share/fonts/truetype/kacst/KacstOffice.ttf', '/usr/share/fonts/truetype/Gubbi/Gubbi.ttf', '/usr/share/fonts/truetype/tlwg/Kinnari-Bold.ttf', '/usr/share/fonts/truetype/fonts-beng-extra/MuktiNarrowBold.ttf', '/usr/share/fonts/truetype/tlwg/Norasi-BoldOblique.ttf', '/usr/share/fonts/truetype/liberation/LiberationSans-Italic.ttf', '/usr/share/fonts/truetype/samyak-fonts/Samyak-Gujarati.ttf', '/usr/share/fonts/truetype/liberation/LiberationSans-BoldItalic.ttf', '/usr/share/fonts/truetype/tlwg/Garuda-Bold.ttf', '/usr/share/fonts/truetype/fonts-gujr-extra/padmaa.ttf', '/usr/share/fonts/truetype/tlwg/TlwgTypist-Bold.ttf', '/usr/share/fonts/truetype/kacst/KacstBook.ttf', '/usr/share/fonts/truetype/tlwg/TlwgTypo-Bold.ttf', '/usr/share/fonts/truetype/ubuntu/Ubuntu-B.ttf', '/usr/share/fonts/truetype/kacst/mry_KacstQurn.ttf', '/usr/share/fonts/truetype/kacst/KacstQurn.ttf', '/usr/share/fonts/truetype/Sahadeva/sahadeva.ttf', '/usr/share/fonts/truetype/tlwg/Kinnari-Italic.ttf', '/usr/share/fonts/truetype/padauk/Padauk-Bold.ttf', '/usr/share/fonts/truetype/tlwg/Waree-Bold.ttf', '/usr/share/fonts/truetype/tlwg/TlwgTypewriter-Bold.ttf', '/usr/share/fonts/truetype/fonts-beng-extra/LikhanNormal.ttf', '/usr/share/fonts/opentype/malayalam/Manjari-Bold.otf', '/usr/share/fonts/truetype/liberation2/LiberationMono-Italic.ttf', '/usr/share/fonts/truetype/liberation2/LiberationSans-BoldItalic.ttf', '/usr/share/fonts/opentype/malayalam/Manjari-Regular.otf', '/usr/share/fonts/truetype/kacst/KacstTitle.ttf', '/usr/share/fonts/truetype/tlwg/TlwgMono-Oblique.ttf', '/usr/share/fonts/truetype/liberation/LiberationMono-Bold.ttf', '/usr/share/fonts/truetype/liberation/LiberationSerif-Italic.ttf', '/usr/share/fonts/truetype/freefont/FreeSerifBoldItalic.ttf', '/usr/share/fonts/truetype/ubuntu/Ubuntu-BI.ttf', '/usr/share/fonts/truetype/fonts-gujr-extra/aakar-medium.ttf', '/usr/share/fonts/truetype/tlwg/TlwgMono.ttf', '/usr/share/fonts/truetype/lohit-malayalam/Lohit-Malayalam.ttf', '/usr/share/fonts/truetype/kacst/KacstPoster.ttf', '/usr/share/fonts/truetype/tlwg/Sawasdee-BoldOblique.ttf', '/usr/share/fonts/truetype/Sarai/Sarai.ttf', '/usr/share/fonts/truetype/freefont/FreeSansOblique.ttf', '/usr/share/fonts/truetype/liberation/LiberationSansNarrow-Regular.ttf', '/usr/share/fonts/truetype/tlwg/Kinnari-BoldOblique.ttf', '/usr/share/fonts/truetype/freefont/FreeMonoBold.ttf', '/usr/share/fonts/truetype/tlwg/TlwgTypo-Oblique.ttf', '/usr/share/fonts/truetype/liberation2/LiberationSans-Bold.ttf', '/usr/share/fonts/truetype/freefont/FreeSerifItalic.ttf', '/usr/share/fonts/truetype/kacst/KacstPen.ttf', '/usr/share/fonts/truetype/ubuntu/UbuntuMono-RI.ttf', '/usr/share/fonts/opentype/noto/NotoSerifCJK-Regular.ttc', '/usr/share/fonts/truetype/ubuntu/Ubuntu-C.ttf', '/usr/share/fonts/opentype/noto/NotoSansCJK-Regular.ttc', '/usr/share/fonts/truetype/tlwg/Loma.ttf', '/usr/share/fonts/truetype/ttf-khmeros-core/KhmerOS.ttf', '/usr/share/fonts/truetype/tlwg/Norasi.ttf', '/usr/share/fonts/truetype/tlwg/Laksaman-Bold.ttf', '/usr/share/fonts/truetype/lohit-kannada/Lohit-Kannada.ttf', '/usr/share/fonts/truetype/liberation/LiberationMono-Regular.ttf', '/usr/share/fonts/opentype/noto/NotoSerifCJK-ExtraLight.ttc', '/usr/share/fonts/truetype/tlwg/Waree-BoldOblique.ttf', '/usr/share/fonts/truetype/tlwg/Sawasdee-Bold.ttf', '/usr/share/fonts/truetype/tlwg/TlwgTypist-BoldOblique.ttf', '/usr/share/fonts/opentype/noto/NotoSerifCJK-SemiBold.ttc', '/usr/share/fonts/truetype/kacst/KacstScreen.ttf', '/usr/share/fonts/truetype/samyak-fonts/Samyak-Tamil.ttf', '/usr/share/fonts/truetype/malayalam/Suruma.ttf', '/usr/share/fonts/truetype/fonts-beng-extra/ani.ttf', '/usr/share/fonts/truetype/tlwg/TlwgTypo-BoldOblique.ttf', '/usr/share/fonts/opentype/noto/NotoSansCJK-Medium.ttc', '/usr/share/fonts/truetype/tlwg/Umpush-Oblique.ttf', '/usr/share/fonts/truetype/malayalam/Meera.ttf', '/usr/share/fonts/truetype/liberation2/LiberationMono-Bold.ttf', '/usr/share/fonts/truetype/kacst-one/KacstOne-Bold.ttf', '/usr/share/fonts/truetype/dejavu/DejaVuSerif-Bold.ttf']\n"
     ]
    }
   ],
   "source": [
    "font_list = fm.findSystemFonts(fontpaths = None, fontext = 'ttf')\n",
    "\n",
    "print(font_list)"
   ]
  },
  {
   "cell_type": "code",
   "execution_count": 40,
   "metadata": {},
   "outputs": [
    {
     "name": "stdout",
     "output_type": "stream",
     "text": [
      "['/usr/share/fonts/opentype/noto/NotoSerifCJK-Black.ttc', '/usr/share/fonts/opentype/noto/NotoSansCJK-Bold.ttc', '/usr/share/fonts/opentype/noto/NotoSansCJK-Light.ttc', '/usr/share/fonts/opentype/noto/NotoSansCJK-Black.ttc', '/usr/share/fonts/opentype/noto/NotoSansCJK-DemiLight.ttc', '/usr/share/fonts/opentype/noto/NotoSerifCJK-Light.ttc', '/usr/share/fonts/opentype/noto/NotoSerifCJK-Medium.ttc', '/usr/share/fonts/opentype/noto/NotoSerifCJK-Bold.ttc', '/usr/share/fonts/opentype/noto/NotoSansCJK-Thin.ttc', '/usr/share/fonts/opentype/noto/NotoSerifCJK-Regular.ttc', '/usr/share/fonts/opentype/noto/NotoSansCJK-Regular.ttc', '/usr/share/fonts/opentype/noto/NotoSerifCJK-ExtraLight.ttc', '/usr/share/fonts/opentype/noto/NotoSerifCJK-SemiBold.ttc', '/usr/share/fonts/opentype/noto/NotoSansCJK-Medium.ttc']\n"
     ]
    }
   ],
   "source": [
    "# 한글을 지원하는 폰트 찾기\n",
    "print([i for i in font_list if 'CJK' in i])"
   ]
  },
  {
   "cell_type": "code",
   "execution_count": 41,
   "metadata": {},
   "outputs": [],
   "source": [
    "font_location = '/usr/share/fonts/opentype/noto/NotoSerifCJK-Black.ttc'\n",
    "font_name = fm.FontProperties(fname=font_location).get_name()\n",
    "matplotlib.rc('font', family=font_name)"
   ]
  },
  {
   "cell_type": "code",
   "execution_count": 42,
   "metadata": {},
   "outputs": [
    {
     "data": {
      "text/plain": [
       "[<matplotlib.lines.Line2D at 0x7fd6545707d0>]"
      ]
     },
     "execution_count": 42,
     "metadata": {},
     "output_type": "execute_result"
    },
    {
     "data": {
      "image/png": "[encoded data removed]",
      "text/plain": [
       "<Figure size 432x288 with 1 Axes>"
      ]
     },
     "metadata": {
      "needs_background": "light"
     },
     "output_type": "display_data"
    }
   ],
   "source": [
    "# test\n",
    "plt.plot(['가', '나', '다'], [1, 2, 3])"
   ]
  },
  {
   "cell_type": "code",
   "execution_count": 43,
   "metadata": {},
   "outputs": [
    {
     "data": {
      "text/plain": [
       "<AxesSubplot:>"
      ]
     },
     "execution_count": 43,
     "metadata": {},
     "output_type": "execute_result"
    },
    {
     "data": {
      "image/png": "[encoded data removed]",
      "text/plain": [
       "<Figure size 432x288 with 1 Axes>"
      ]
     },
     "metadata": {
      "needs_background": "light"
     },
     "output_type": "display_data"
    }
   ],
   "source": [
    "df['code'].value_counts().plot(kind = 'bar')"
   ]
  },
  {
   "cell_type": "code",
   "execution_count": 44,
   "metadata": {},
   "outputs": [
    {
     "name": "stdout",
     "output_type": "stream",
     "text": [
      "    code  count\n",
      "0  IT/과학    179\n",
      "1     사회    192\n",
      "2  생활/문화    181\n"
     ]
    }
   ],
   "source": [
    "print(df.groupby('code').size().reset_index(name = 'count'))"
   ]
  },
  {
   "cell_type": "markdown",
   "metadata": {},
   "source": [
    "## Tokenizing\n",
    "자연어 처리에서 대부분의 경우 문자열은 특정 단위로 나누어져야 한다. 이 특정 단위를 **토큰(token)** 이라 한다.\n",
    "* `Mecab.morphs` : 입력 문자열을 형태소 단위로 나눔\n",
    "* 자연어 처리에서는 토큰화 결과가 얼마나 정확한지에 따라 성능에 많은 영향을 줌!!! 형태소 분석기의 결과가 머신 러닝 결과의 성능에 큰 영향을 준다는 뜻.\n",
    "* 한국어 처리의 경우 토큰화 과정을 주로 형태소 분석기를 사용해서 수행. 한국어의 경우 교착어라는 특성으로 인해 조사, 어미 등이 붙어있어 띄어쓰기 단위로 토큰화를 할 경우에는 같은 단어임에도 다른 단어로 인식될 수 있다."
   ]
  },
  {
   "cell_type": "code",
   "execution_count": 46,
   "metadata": {},
   "outputs": [
    {
     "name": "stdout",
     "output_type": "stream",
     "text": [
      "['밤', '에', '귀가', '하', '던', '여성', '에게', '범죄', '를', '시도', '한', '대', '남성', '이', '구속', '됐', '다', '서울', '제주', '경찰서', '는', '상해', '혐의', '로', '씨', '를', '구속', '해', '수사', '하', '고', '있', '다고', '일', '밝혔', '다', '씨', '는', '지난달', '일', '피해', '여성', '을', '인근', '지하철', '역', '에서부터', '따라가', '폭행', '을', '시도', '하', '려다가', '도망간', '혐의', '를', '받', '는다', '피해', '여성', '이', '저항', '하', '자', '놀란', '씨', '는', '도망갔으며', '신고', '를', '받', '고', '주변', '을', '수색', '하', '던', '경찰', '에', '체포', '됐', '다', '피해', '여성', '은', '이', '과정', '에서', '경미', '한', '부상', '을', '입', '은', '것', '으로', '전해졌', '다']\n"
     ]
    }
   ],
   "source": [
    "from konlpy.tag import Mecab\n",
    "tokenizer = Mecab()\n",
    "\n",
    "kor_text = '밤에 귀가하던 여성에게 범죄를 시도한 대 남성이 구속됐다서울 제주경찰서는 \\\n",
    "            상해 혐의로 씨를 구속해 수사하고 있다고 일 밝혔다씨는 지난달 일 피해 여성을 \\\n",
    "            인근 지하철 역에서부터 따라가 폭행을 시도하려다가 도망간 혐의를 받는다피해 \\\n",
    "            여성이 저항하자 놀란 씨는 도망갔으며 신고를 받고 주변을 수색하던 경찰에 \\\n",
    "            체포됐다피해 여성은 이 과정에서 경미한 부상을 입은 것으로 전해졌다'\n",
    "\n",
    "#- 형태소 분석, 즉 토큰화(tokenization)를 합니다.\n",
    "print(tokenizer.morphs(kor_text))"
   ]
  },
  {
   "cell_type": "markdown",
   "metadata": {},
   "source": [
    "## Stopwords(불용어) 제거\n",
    "불필요한 토큰들을 제거하는 과정.\n",
    "* 불용어 : 데이터 전체에서 꽤 많이 등장하지만, 실제로 자연어 처리에는 큰 영향을 주지 않는 중요하지 않은 단어들.\n",
    "    * 한국어에서는 주로 조사나 접사 등이 불용어에 속한다.\n",
    "    * 해당 데이터의 특성을 인해 자주 등장할 수 밖에 없는 단어들도 불용어(ex.파이낸셜뉴스)"
   ]
  },
  {
   "cell_type": "code",
   "execution_count": 47,
   "metadata": {},
   "outputs": [],
   "source": [
    "stopwords = ['에','는','은','을','했','에게','있','이','의','하','한','다','과','때문','할','수','무단','따른','및','금지','전재','경향신문','기자','는데','가','등','들','파이낸셜','저작','등','뉴스']"
   ]
  },
  {
   "cell_type": "code",
   "execution_count": 48,
   "metadata": {},
   "outputs": [],
   "source": [
    "# 토큰화 및 토큰화 과정에서 불용어를 제거하는 함수입니다.\n",
    "def preprocessing(data):\n",
    "    text_data = []\n",
    "\n",
    "    for sentence in data:\n",
    "        temp_data = []\n",
    "        #- 토큰화\n",
    "        temp_data = tokenizer.morphs(sentence) \n",
    "        #- 불용어 제거\n",
    "        temp_data = [word for word in temp_data if not word in stopwords] \n",
    "        text_data.append(temp_data)\n",
    "\n",
    "    text_data = list(map(' '.join, text_data))\n",
    "\n",
    "    return text_data"
   ]
  },
  {
   "cell_type": "code",
   "execution_count": 49,
   "metadata": {},
   "outputs": [
    {
     "name": "stdout",
     "output_type": "stream",
     "text": [
      "파주 시청 사진제 공파 주시 파주 시청 사진 제공 파주시 파주 강근주 파 주 시 일 관내 취약 계층 만 가구 대해 정부 긴급 재난 지원금 입금 완료 다파 주 시민 받 긴급 재난 지원금 인 이상 가구 기준 으로 만 원 받 게 되 며 인 가구 만 원 인 가구 만 원 인 가구 만 원 정부 발표 긴급 재난 지원금 파주 시민 지급 금액 다른 이유 국비 지방비 부담 비율 다파 주 시 이미 모든 시민 경기도 파주시 재난 기본 소득 인 당 각 만 원 지급 고 어 시민 국비 지원금 만 지급 며 인 가구 기준 으로 총 지원 금액 파주시 재난 기본소득 만 원 경기도 재난 기본소득 만 원 정부 긴급 재난 지원금 만 원 총 만 원 받 게 된다 취약 계층 아닌 시민 오 월일 부터 소지 고 신용 체크카드 사 홈페이지 에서 긴급 재난 지원금 지원 신청 세대주 가족 지원금 일괄 신청 해야 한다 한편 파 주 시 일 김정기 부시장 단장 으로 긴급 재난 지원금 추진 태 스 크 포스 를 구성 해 긴급 재난 지원금 원활 게 지급 될 도록 지원 한다 권 자 재 배포\n"
     ]
    }
   ],
   "source": [
    "text_data = preprocessing(df['news'])\n",
    "print(text_data[0])"
   ]
  },
  {
   "cell_type": "markdown",
   "metadata": {},
   "source": [
    "# Traning\n",
    "나이브 베이즈 분류기 : 아주 정밀한 **통계** 알고리즘. 데이터량에 영향을 많이 받는다. 분류기 성능이 낮으면 대부분 데이터가 모자라기 때문!!"
   ]
  },
  {
   "cell_type": "code",
   "execution_count": 50,
   "metadata": {},
   "outputs": [],
   "source": [
    "from sklearn.model_selection import train_test_split\n",
    "from sklearn.feature_extraction.text import CountVectorizer\n",
    "from sklearn.feature_extraction.text import TfidfTransformer\n",
    "from sklearn.naive_bayes import MultinomialNB\n",
    "from sklearn import metrics"
   ]
  },
  {
   "cell_type": "code",
   "execution_count": 51,
   "metadata": {},
   "outputs": [],
   "source": [
    "X_train, X_test, y_train, y_test = train_test_split(text_data, df['code'], random_state = 0)"
   ]
  },
  {
   "cell_type": "markdown",
   "metadata": {},
   "source": [
    "### Vectorizing\n",
    "나이브 베이즈 분류기를 사용하기 위해서는 텍스트 데이터를 벡터로 변환해야 한다.\n",
    "\n",
    "TF-IDF : Term Frequency Inverse Document Frequency\n",
    "* To find how relevant a term is in a document\n",
    "> relevant : A word relevance is the amount of info that gives about its context\n",
    "* TF measures how frequently a term occurs in a document\n",
    "    * If a term occurs more times than other terms in a document, the term has more relevance than other terms for the document\n",
    "* IDF : Log(Total # of Docs / # of Docs with the term in it)"
   ]
  },
  {
   "cell_type": "code",
   "execution_count": 53,
   "metadata": {},
   "outputs": [],
   "source": [
    "#- 단어의 수를 카운트\n",
    "count_vect = CountVectorizer()\n",
    "X_train_counts = count_vect.fit_transform(X_train)\n",
    "\n",
    "#- 카운트벡터라이저의 결과로부터 TF-IDF 결과를 얻음.\n",
    "tfidf_transformer = TfidfTransformer()\n",
    "X_train_tfidf = tfidf_transformer.fit_transform(X_train_counts)\n",
    "\n",
    "#- X_train은 TF-IDF 벡터, y_train은 레이블\n",
    "clf = MultinomialNB().fit(X_train_tfidf, y_train)"
   ]
  },
  {
   "cell_type": "markdown",
   "metadata": {},
   "source": [
    "# Evaluation"
   ]
  },
  {
   "cell_type": "code",
   "execution_count": 54,
   "metadata": {},
   "outputs": [],
   "source": [
    "def tfidf_vectorizer(data):\n",
    "    data_counts = count_vect.transform(data)\n",
    "    data_tfidf = tfidf_transformer.transform(data_counts)\n",
    "    return data_tfidf"
   ]
  },
  {
   "cell_type": "code",
   "execution_count": 55,
   "metadata": {},
   "outputs": [
    {
     "name": "stdout",
     "output_type": "stream",
     "text": [
      "['IT/과학']\n"
     ]
    }
   ],
   "source": [
    "new_sent = preprocessing([\"민주당 일각에서 법사위의 체계·자구 심사 기능을 없애야 한다는 \\\n",
    "                           주장이 나오는 데 대해 “체계·자구 심사가 법안 지연의 수단으로 \\\n",
    "                          쓰이는 것은 바람직하지 않다”면서도 “국회를 통과하는 법안 중 위헌\\\n",
    "                          법률이 1년에 10건 넘게 나온다. 그런데 체계·자구 심사까지 없애면 매우 위험하다”고 반박했다.\"])\n",
    "print(clf.predict(tfidf_vectorizer(new_sent)))"
   ]
  },
  {
   "cell_type": "code",
   "execution_count": 56,
   "metadata": {},
   "outputs": [
    {
     "name": "stdout",
     "output_type": "stream",
     "text": [
      "['생활/문화']\n"
     ]
    }
   ],
   "source": [
    "new_sent = preprocessing([\"인도 로맨틱 코미디 영화 <까립까립 싱글>(2017)을 봤을 때 나는 두 눈을 의심했다. \\\n",
    "                          저 사람이 남자 주인공이라고? 노안에 가까운 이목구비와 기름때로 뭉친 파마머리와, \\\n",
    "                          대충 툭툭 던지는 말투 등 전혀 로맨틱하지 않은 외모였다. 반감이 일면서 \\\n",
    "                          ‘난 외모지상주의자가 아니다’라고 자부했던 나에 대해 회의가 들었다.\\\n",
    "                           티브이를 꺼버릴까? 다른 걸 볼까? 그런데, 이상하다. 왜 이렇게 매력 있지? 개구리와\\\n",
    "                            같이 툭 불거진 눈망울 안에는 어떤 인도 배우에게서도 느끼지 못한 \\\n",
    "                            부드러움과 선량함, 무엇보다 슬픔이 있었다. 2시간 뒤 영화가 끝나고 나는 완전히 이 배우에게 빠졌다\"])\n",
    "print(clf.predict(tfidf_vectorizer(new_sent)))"
   ]
  },
  {
   "cell_type": "code",
   "execution_count": 57,
   "metadata": {},
   "outputs": [
    {
     "name": "stdout",
     "output_type": "stream",
     "text": [
      "['IT/과학']\n"
     ]
    }
   ],
   "source": [
    "new_sent = preprocessing([\"20분기 연속으로 적자에 시달리는 LG전자가 브랜드 이름부터 성능, 디자인까지 대대적인 변화를 \\\n",
    "                          적용한 LG 벨벳은 등장 전부터 온라인 커뮤니티를 뜨겁게 달궜다. 사용자들은 “디자인이 예쁘다”, \\\n",
    "                          “슬림하다”는 반응을 보이며 LG 벨벳에 대한 기대감을 드러냈다.\"])\n",
    "print(clf.predict(tfidf_vectorizer(new_sent)))"
   ]
  },
  {
   "cell_type": "code",
   "execution_count": 58,
   "metadata": {},
   "outputs": [
    {
     "name": "stdout",
     "output_type": "stream",
     "text": [
      "              precision    recall  f1-score   support\n",
      "\n",
      "       IT/과학       0.85      0.86      0.85        51\n",
      "          사회       0.80      0.93      0.86        42\n",
      "       생활/문화       0.86      0.71      0.78        45\n",
      "\n",
      "    accuracy                           0.83       138\n",
      "   macro avg       0.84      0.83      0.83       138\n",
      "weighted avg       0.84      0.83      0.83       138\n",
      "\n"
     ]
    }
   ],
   "source": [
    "y_pred = clf.predict(tfidf_vectorizer(X_test))\n",
    "print(metrics.classification_report(y_test, y_pred))"
   ]
  },
  {
   "cell_type": "markdown",
   "metadata": {},
   "source": [
    "# 모델 성능 개선하기\n",
    "### 형태소 분석기\n",
    "Konlpy\n",
    "* Mecab\n",
    "* Komoran\n",
    "* Hannanum\n",
    "* Kkma\n",
    "* Okt\n",
    "\n",
    "### 불용어를 추가\n",
    "불용어를 추가하여 데이터셋으로부터 제거.\n",
    "* 무엇을 불용어로 추가할 것인가\n",
    "* 지나치게 빈도가 낮은 단어? 지나치게 빈도가 높은 단어?\n",
    "\n",
    "### 데이터 추가\n",
    "* 다른 날짜 데이터\n",
    "* 이미 수집한 데이터와 추가로 수집된 데이터를 적절히 합치는 법?\n",
    "* 적절히 데이터를 섞는 법?"
   ]
  },
  {
   "cell_type": "code",
   "execution_count": null,
   "metadata": {},
   "outputs": [],
   "source": []
  }
 ],
 "metadata": {
  "kernelspec": {
   "display_name": "Python 3",
   "language": "python",
   "name": "python3"
  },
  "language_info": {
   "codemirror_mode": {
    "name": "ipython",
    "version": 3
   },
   "file_extension": ".py",
   "mimetype": "text/x-python",
   "name": "python",
   "nbconvert_exporter": "python",
   "pygments_lexer": "ipython3",
   "version": "3.7.9"
  }
 },
 "nbformat": 4,
 "nbformat_minor": 4
}
