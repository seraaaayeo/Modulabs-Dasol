{
 "cells": [
  {
   "cell_type": "markdown",
   "metadata": {},
   "source": [
    "# SQLite\n",
    "서버 없이 DB 파일에 기초하여 DB 처리를 구현한 **임베디드 SQL DB 엔진**\n",
    "\n",
    "* 클라이언트 응용 프로그램에 임베디드되어 동작하는 오픈 소스 DBMS의 일종.\n",
    "* MySQL이나 PastgreSQL과 같은 데이터베이스 관리 시스템(DBMS)이지만, 서버가 아닌 응용 프로그램에 넣어 사용하기 때문에 비교적 가벼운 데이터베이스이다.\n",
    "* 일반적인 RDBMS에 비해 대규모 작업에는 적합하지 않다.\n",
    "* 데이터베이스 전체를 파일 하나에 저장한다."
   ]
  },
  {
   "cell_type": "code",
   "execution_count": 1,
   "metadata": {},
   "outputs": [],
   "source": [
    "import sqlite3"
   ]
  },
  {
   "cell_type": "markdown",
   "metadata": {},
   "source": [
    "### DB 연결하기"
   ]
  },
  {
   "cell_type": "code",
   "execution_count": 2,
   "metadata": {},
   "outputs": [
    {
     "name": "stdout",
     "output_type": "stream",
     "text": [
      "<sqlite3.Connection object at 0x7f682854be30>\n"
     ]
    }
   ],
   "source": [
    "import os\n",
    "db_path = os.getenv('HOME')+'/workspace/aiffel/sqlite/test.db' #확장자명은 .db\n",
    "connect = sqlite3.connect(db_path)\n",
    "print(connect)"
   ]
  },
  {
   "cell_type": "markdown",
   "metadata": {},
   "source": [
    "### SQL 쿼리를 수행하는 객체"
   ]
  },
  {
   "cell_type": "code",
   "execution_count": 3,
   "metadata": {},
   "outputs": [
    {
     "name": "stdout",
     "output_type": "stream",
     "text": [
      "<sqlite3.Cursor object at 0x7f6824412340>\n"
     ]
    }
   ],
   "source": [
    "cursor = connect.cursor()\n",
    "print(cursor)"
   ]
  },
  {
   "cell_type": "markdown",
   "metadata": {},
   "source": [
    "### SQL 쿼리 실행"
   ]
  },
  {
   "cell_type": "code",
   "execution_count": 4,
   "metadata": {},
   "outputs": [
    {
     "name": "stdout",
     "output_type": "stream",
     "text": [
      "('202011104', 'TEST', 'AIFFEL', 1.0, 100.0)\n"
     ]
    }
   ],
   "source": [
    "# table 생성\n",
    "cursor.execute(\"CREATE TABLE IF NOT EXISTS stocks (data text, trans text, symbol text, qty real, price real)\")\n",
    "\n",
    "cursor.execute(\"INSERT INTO stocks VALUES ('202011104', 'TEST', 'AIFFEL', 1, 100)\")\n",
    "cursor.execute(\"SELECT * FROM stocks\")\n",
    "print(cursor.fetchone())"
   ]
  },
  {
   "cell_type": "code",
   "execution_count": 6,
   "metadata": {},
   "outputs": [
    {
     "name": "stdout",
     "output_type": "stream",
     "text": [
      "('202011104',)\n"
     ]
    }
   ],
   "source": [
    "cursor.execute(\"SELECT data FROM stocks\")\n",
    "print(cursor.fetchone())"
   ]
  },
  {
   "cell_type": "code",
   "execution_count": 9,
   "metadata": {},
   "outputs": [],
   "source": [
    "connect.commit() #DB에 데이터를 실제로 업데이트"
   ]
  },
  {
   "cell_type": "code",
   "execution_count": 10,
   "metadata": {},
   "outputs": [],
   "source": [
    "cursor.close()\n",
    "connect.close()"
   ]
  },
  {
   "cell_type": "markdown",
   "metadata": {},
   "source": [
    "### DML(Data Management Language)"
   ]
  },
  {
   "cell_type": "code",
   "execution_count": 11,
   "metadata": {},
   "outputs": [],
   "source": [
    "conn = sqlite3.connect(db_path)\n",
    "c = conn.cursor()\n",
    "\n",
    "#- ! 재실행 시 테이블이 존재할 수 있으므로 아래처럼 해당 테이블들을 모두 지워줍니다.\n",
    "c.execute(\"DROP TABLE IF EXISTS 도서대출내역\")\n",
    "c.execute(\"DROP TABLE IF EXISTS 도서대출내역2\")\n",
    "c.execute(\"DROP TABLE IF EXISTS 대출내역\")\n",
    "c.execute(\"DROP TABLE IF EXISTS 도서명\")\n",
    "\n",
    "\n",
    "#----- 1st table : 도서대출내역 -----#\n",
    "c.execute(\"CREATE TABLE IF NOT EXISTS 도서대출내역 (ID varchar, 이름 varchar, 도서ID varchar, 대출일 varchar, 반납일 varchar)\")\n",
    "#- 생성(create)문 : 테이블명, 변수명, 변수타입을 지정\n",
    "\n",
    "data = [('101','문강태','aaa','2020-06-01','2020-06-05'),\n",
    "             ('101','문강태','ccc','2020-06-20','2020-06-25'),\n",
    "             ('102','고문영','bbb','2020-06-01',None),\n",
    "             ('102','고문영','ddd','2020-06-08',None),\n",
    "             ('103','문상태','ccc','2020-06-01','2020-06-05'),\n",
    "             ('104','강기둥',None,None,None)]\n",
    "#- 입력할 데이터를 그대로 입력 (변수명 순서 기준대로)\n",
    "\n",
    "c.executemany('INSERT INTO 도서대출내역 VALUES (?,?,?,?,?)', data)\n",
    "#- 입력할 데이터를 실제 테이블에 insert하기(데이터 바인딩)\n",
    "#-----------------------------------------------#\n",
    "\n",
    "\n",
    "#----- 2nd table : 도서대출내역2 -----#\n",
    "c.execute(\"CREATE TABLE IF NOT EXISTS 도서대출내역2 (ID varchar, 이름 varchar, 대출년월 varchar, 대출일수 varchar)\")\n",
    "\n",
    "data = [('101','문강태','2020-06','20일'),\n",
    "             ('102','고문영','2020-06','10일'),\n",
    "             ('103','문상태','2020-06','8일'),\n",
    "             ('104','강기둥','2020-06','3일')]\n",
    "c.executemany('INSERT INTO 도서대출내역2 VALUES (?,?,?,?)', data)\n",
    "#--------------------------------------------------#\n",
    "\n",
    "\n",
    "#----- 3rd table : 대출내역 -----#\n",
    "c.execute(\"CREATE TABLE IF NOT EXISTS 대출내역 (ID varchar, 이름 varchar, 도서ID varchar)\")\n",
    "\n",
    "data = [('101','문강태','aaa'),\n",
    "             ('102','고문영','bbb'),\n",
    "             ('102','고문영','fff'),\n",
    "             ('103','문상태','ccc'),\n",
    "             ('104','강기둥',None)]\n",
    "c.executemany('INSERT INTO 대출내역 VALUES (?,?,?)', data)\n",
    "#-----------------------------------------#\n",
    "\n",
    "\n",
    "#----- 4th table : 도서명 -----#\n",
    "c.execute(\"CREATE TABLE IF NOT EXISTS 도서명 (도서ID varchar, 도서명 varchar)\")\n",
    "\n",
    "data = [('aaa','악몽을 먹고 자란 소년'),\n",
    "             ('bbb','좀비아이'),\n",
    "             ('ccc','공룡백과사전'),\n",
    "             ('ddd','빨간구두'),\n",
    "             ('eee','잠자는 숲속의 미녀')]\n",
    "\n",
    "c.executemany('INSERT INTO 도서명 VALUES (?,?)', data)\n",
    "#--------------------------------------#\n",
    "\n",
    "conn.commit()\n",
    "conn.close()"
   ]
  },
  {
   "cell_type": "code",
   "execution_count": 14,
   "metadata": {},
   "outputs": [
    {
     "name": "stdout",
     "output_type": "stream",
     "text": [
      "('aaa', '악몽을 먹고 자란 소년')\n",
      "('bbb', '좀비아이')\n",
      "('ccc', '공룡백과사전')\n",
      "('ddd', '빨간구두')\n",
      "('eee', '잠자는 숲속의 미녀')\n",
      "\n",
      "('101', '문강태', 'aaa')\n",
      "('102', '고문영', 'bbb')\n",
      "('102', '고문영', 'fff')\n",
      "('103', '문상태', 'ccc')\n",
      "('104', '강기둥', None)\n"
     ]
    }
   ],
   "source": [
    "conn = sqlite3.connect(db_path)\n",
    "c = conn.cursor()\n",
    "\n",
    "for row in c.execute('SELECT * FROM 도서명'):\n",
    "    print(row)\n",
    "print()\n",
    "for row in c.execute('SELECT * FROM 대출내역'):\n",
    "    print(row)"
   ]
  },
  {
   "cell_type": "markdown",
   "metadata": {},
   "source": [
    "## 쿼리 구조\n",
    "* `SELECT` : 조회할 컬럼명 선택\n",
    "* `FROM` : 조회할 테이블명 지정\n",
    "* `WHERE` : 쿼리에 필요한 조건 설정\n",
    "* `GROUP BY` : 특정 컬럼을 기준으로 그룹지어 출력"
   ]
  },
  {
   "cell_type": "code",
   "execution_count": 16,
   "metadata": {},
   "outputs": [
    {
     "name": "stdout",
     "output_type": "stream",
     "text": [
      "('101', '문강태', 'aaa', '2020-06-01', '2020-06-05')\n",
      "('101', '문강태', 'ccc', '2020-06-20', '2020-06-25')\n",
      "('102', '고문영', 'bbb', '2020-06-01', None)\n",
      "('102', '고문영', 'ddd', '2020-06-08', None)\n",
      "('103', '문상태', 'ccc', '2020-06-01', '2020-06-05')\n",
      "('104', '강기둥', None, None, None)\n",
      "('101',)\n",
      "('101',)\n",
      "('102',)\n",
      "('102',)\n",
      "('103',)\n",
      "('104',)\n"
     ]
    }
   ],
   "source": [
    "# 해당 테이블 전체 조회\n",
    "for row in c.execute('SELECT * FROM 도서대출내역'):\n",
    "    print(row)\n",
    "\n",
    "# 해당 테이블의 특정 컬럼만 조회\n",
    "for row in c.execute('SELECT ID FROM 도서대출내역'):\n",
    "    print(row)"
   ]
  },
  {
   "cell_type": "code",
   "execution_count": 17,
   "metadata": {},
   "outputs": [
    {
     "name": "stdout",
     "output_type": "stream",
     "text": [
      "('101', '문강태', 'aaa', '2020-06-01', '2020-06-05')\n",
      "('101', '문강태', 'ccc', '2020-06-20', '2020-06-25')\n"
     ]
    }
   ],
   "source": [
    "# 조건 부여\n",
    "for row in c.execute('SELECT * FROM 도서대출내역 WHERE 이름 = \"문강태\"'):\n",
    "    print(row)"
   ]
  },
  {
   "cell_type": "markdown",
   "metadata": {},
   "source": [
    "Distinct와 group by\n",
    "* distinct : 특정 컬럼들이 갖고 있는 값들의 중복을 제거할 때 사용. 주로 `count`와 같은 함수와 같이 사용한다.\n",
    "    * ```SELECT DISTINCT A FROM 테이블```\n",
    "    * ```SELECT COUNT(DISTINCT A) FROM 테이블```\n",
    "* group by : 특정 기준으로 집계. 집계성 함수 `count, max, min, avg`등과 사용한다.\n",
    "    * ```SELECT A, MAX(B) FROM 테이블 GROUP BY A```"
   ]
  },
  {
   "cell_type": "code",
   "execution_count": 20,
   "metadata": {},
   "outputs": [
    {
     "name": "stdout",
     "output_type": "stream",
     "text": [
      "('강기둥',)\n",
      "('고문영',)\n",
      "('문강태',)\n",
      "('문상태',)\n",
      "\n",
      "('문강태',)\n",
      "('고문영',)\n",
      "('문상태',)\n",
      "('강기둥',)\n"
     ]
    }
   ],
   "source": [
    "# 그룹화하기\n",
    "for row in c.execute('SELECT 이름 FROM 도서대출내역 GROUP BY 이름'):\n",
    "    print(row)\n",
    "print()\n",
    "# 중복 제거하기\n",
    "for row in c.execute('SELECT DISTINCT 이름 FROM 도서대출내역'):\n",
    "    print(row)"
   ]
  },
  {
   "cell_type": "code",
   "execution_count": 23,
   "metadata": {},
   "outputs": [
    {
     "name": "stdout",
     "output_type": "stream",
     "text": [
      "('101', '문강태', 'aaa', '2020-06-01', '2020-06-05')\n",
      "('101', '문강태', 'ccc', '2020-06-20', '2020-06-25')\n",
      "('102', '고문영', 'bbb', '2020-06-01', None)\n",
      "('102', '고문영', 'ddd', '2020-06-08', None)\n",
      "('103', '문상태', 'ccc', '2020-06-01', '2020-06-05')\n",
      "('104', '강기둥', None, None, None)\n",
      "\n",
      "('104', '강기둥', None, None, None)\n",
      "('103', '문상태', 'ccc', '2020-06-01', '2020-06-05')\n",
      "('102', '고문영', 'bbb', '2020-06-01', None)\n",
      "('102', '고문영', 'ddd', '2020-06-08', None)\n",
      "('101', '문강태', 'aaa', '2020-06-01', '2020-06-05')\n",
      "('101', '문강태', 'ccc', '2020-06-20', '2020-06-25')\n"
     ]
    }
   ],
   "source": [
    "# 정렬하기\n",
    "for row in c.execute('SELECT * FROM 도서대출내역 ORDER BY ID'): #ASC default\n",
    "    print(row)\n",
    "    \n",
    "print()\n",
    "for row in c.execute('SELECT * FROM 도서대출내역 ORDER BY ID DESC'):\n",
    "    print(row)"
   ]
  },
  {
   "cell_type": "code",
   "execution_count": 24,
   "metadata": {},
   "outputs": [
    {
     "name": "stdout",
     "output_type": "stream",
     "text": [
      "('101', '문강태', 'aaa', '2020-06-01', '2020-06-05')\n",
      "('101', '문강태', 'ccc', '2020-06-20', '2020-06-25')\n",
      "('102', '고문영', 'bbb', '2020-06-01', None)\n",
      "('102', '고문영', 'ddd', '2020-06-08', None)\n",
      "('103', '문상태', 'ccc', '2020-06-01', '2020-06-05')\n"
     ]
    }
   ],
   "source": [
    "# limit : 처음 테이블을 조회할 때 테이블 구조 및 데이터 파악 용도로 사용\n",
    "for row in c.execute('SELECT * FROM 도서대출내역 LIMIT 5'):\n",
    "    print(row)"
   ]
  },
  {
   "cell_type": "markdown",
   "metadata": {},
   "source": [
    "count : 행 수를 센다.\n",
    "* 특정 컬럼에 데이터가 있는 행을 세려면 괄호 안에 컬럼명을 쓴다. `count(column)`\n",
    "* ( * )는 테이블의 모든 행의 개수를 센다. ```SELECT COUNT(*) FROM table``` \n",
    "\n",
    "as : column alias\n",
    "* 값을 새로운 컬럼에 새로 저장한다."
   ]
  },
  {
   "cell_type": "code",
   "execution_count": 25,
   "metadata": {},
   "outputs": [
    {
     "name": "stdout",
     "output_type": "stream",
     "text": [
      "('강기둥', 1)\n",
      "('고문영', 2)\n",
      "('문강태', 2)\n",
      "('문상태', 1)\n"
     ]
    }
   ],
   "source": [
    "for row in c.execute('SELECT 이름, COUNT(*) AS 대출건수 FROM 도서대출내역 GROUP BY 이름'):\n",
    "    print(row)"
   ]
  },
  {
   "cell_type": "markdown",
   "metadata": {},
   "source": [
    "substr : 값을 잘라냄\n",
    "* sqlite에서 `split_part()`함수를 제공하기도 한다.\n",
    "\n",
    "cast : 형 변환\n",
    "* ```cast(컬럼명 as 변환할 타입)```"
   ]
  },
  {
   "cell_type": "code",
   "execution_count": 27,
   "metadata": {},
   "outputs": [
    {
     "name": "stdout",
     "output_type": "stream",
     "text": [
      "('101', '문강태', '2020-06', '20일', '20')\n",
      "('102', '고문영', '2020-06', '10일', '10')\n",
      "('103', '문상태', '2020-06', '8일', '8')\n",
      "('104', '강기둥', '2020-06', '3일', '3')\n"
     ]
    }
   ],
   "source": [
    "for row in c.execute('SELECT *, SUBSTR(대출일수, 1, (length(대출일수)-1)) AS 대출일_수정 FROM 도서대출내역2'):\n",
    "    print(row)"
   ]
  },
  {
   "cell_type": "code",
   "execution_count": 31,
   "metadata": {},
   "outputs": [
    {
     "name": "stdout",
     "output_type": "stream",
     "text": [
      "<class 'int'>\n",
      "<class 'int'>\n",
      "<class 'int'>\n",
      "<class 'int'>\n"
     ]
    }
   ],
   "source": [
    "for row in c.execute('SELECT *, CAST(SUBSTR(대출일수, 1, (length(대출일수)-1)) AS INT) AS 대출일_수정 FROM 도서대출내역2'):\n",
    "    print(type(row[4]))"
   ]
  },
  {
   "cell_type": "code",
   "execution_count": 32,
   "metadata": {},
   "outputs": [
    {
     "name": "stdout",
     "output_type": "stream",
     "text": [
      "('101', '문강태', '2020-06', 20.0)\n",
      "('102', '고문영', '2020-06', 10.0)\n",
      "('103', '문상태', '2020-06', 8.0)\n",
      "('104', '강기둥', '2020-06', 3.0)\n"
     ]
    }
   ],
   "source": [
    "for row in c.execute('SELECT ID, 이름, 대출년월, AVG(CAST(SUBSTR(대출일수, 1, (length(대출일수)-1)) AS INT)) AS 대출일수_평균 FROM 도서대출내역2 GROUP BY 1,2,3'):\n",
    "    print(row)"
   ]
  },
  {
   "cell_type": "markdown",
   "metadata": {},
   "source": [
    "### Where절 사용하기"
   ]
  },
  {
   "cell_type": "markdown",
   "metadata": {},
   "source": [
    "특정 문자를 포함하는 행 가져오기\n",
    "* `문%` : 문으로 시작하는 모든 문자열을 가져온다.\n",
    "* `%문%` : 문자열에 문이 포함되면 모두 가져온다.\n",
    "* `%문`: 문으로 끝나는 모든 문자열을 가져온다."
   ]
  },
  {
   "cell_type": "code",
   "execution_count": 33,
   "metadata": {},
   "outputs": [
    {
     "name": "stdout",
     "output_type": "stream",
     "text": [
      "('101', '문강태', '2020-06', '20일')\n",
      "('103', '문상태', '2020-06', '8일')\n"
     ]
    }
   ],
   "source": [
    "for row in c.execute('SELECT * FROM 도서대출내역2 WHERE 이름 LIKE \"문%\"'):\n",
    "    print(row)"
   ]
  },
  {
   "cell_type": "code",
   "execution_count": 37,
   "metadata": {},
   "outputs": [
    {
     "name": "stdout",
     "output_type": "stream",
     "text": [
      "('101', '문강태', '2020-06', '20일')\n",
      "('102', '고문영', '2020-06', '10일')\n",
      "('103', '문상태', '2020-06', '8일')\n"
     ]
    }
   ],
   "source": [
    "for row in c.execute('SELECT * FROM 도서대출내역2 WHERE 이름 LIKE \"%문%\"'):\n",
    "    print(row)"
   ]
  },
  {
   "cell_type": "markdown",
   "metadata": {},
   "source": [
    "특정 기간/날짜\n",
    "* 조건 AND 조건\n",
    "* BETWEEN 조건 AND 조건 : 시작일과 종료일을 **포함**한다."
   ]
  },
  {
   "cell_type": "code",
   "execution_count": 35,
   "metadata": {},
   "outputs": [
    {
     "name": "stdout",
     "output_type": "stream",
     "text": [
      "('101', '문강태', 'aaa', '2020-06-01', '2020-06-05')\n",
      "('102', '고문영', 'bbb', '2020-06-01', None)\n",
      "('103', '문상태', 'ccc', '2020-06-01', '2020-06-05')\n"
     ]
    }
   ],
   "source": [
    "for row in c.execute('SELECT * FROM 도서대출내역 WHERE 대출일 BETWEEN \"2020-06-01\" AND \"2020-06-07\"'):\n",
    "    print(row)"
   ]
  },
  {
   "cell_type": "markdown",
   "metadata": {},
   "source": [
    "NULL 조건 빼기\n",
    "* WHERE 반납일 IS NOT NULL"
   ]
  },
  {
   "cell_type": "code",
   "execution_count": 38,
   "metadata": {},
   "outputs": [
    {
     "name": "stdout",
     "output_type": "stream",
     "text": [
      "('문강태',)\n"
     ]
    }
   ],
   "source": [
    "for row in c.execute('SELECT 이름 FROM 도서대출내역 WHERE 이름 LIKE \"%태\" AND 대출일 >= \"2020-06-19\" AND ID < 102 AND 반납일 IS NOT NULL'):\n",
    "    print(row)"
   ]
  },
  {
   "cell_type": "markdown",
   "metadata": {},
   "source": [
    "### Data JOIN\n",
    "* Inner join : 두 테이블의 교집합 조회\n",
    "* Left join : (기준은 A테이블) A 테이블을 기준으로 해서 B 테이블은 공통되는 부분만 조회\n",
    "* Right join : (기준은 B테이블) B 테이블을 기준으로 해서 A 테이블은 공통되는 부분만 조회\n",
    "* Full join : 두 테이블 모두에서 빠트리는 부분 없이 조회"
   ]
  },
  {
   "cell_type": "code",
   "execution_count": 39,
   "metadata": {},
   "outputs": [
    {
     "name": "stdout",
     "output_type": "stream",
     "text": [
      "('101', '문강태', 'aaa')\n",
      "('102', '고문영', 'bbb')\n",
      "('102', '고문영', 'fff')\n",
      "('103', '문상태', 'ccc')\n",
      "('104', '강기둥', None)\n",
      "('aaa', '악몽을 먹고 자란 소년')\n",
      "('bbb', '좀비아이')\n",
      "('ccc', '공룡백과사전')\n",
      "('ddd', '빨간구두')\n",
      "('eee', '잠자는 숲속의 미녀')\n"
     ]
    }
   ],
   "source": [
    "for row in c.execute('SELECT * FROM 대출내역'):\n",
    "    print(row)\n",
    "for row in c.execute('SELECT * FROM 도서명'):\n",
    "    print(row)"
   ]
  },
  {
   "cell_type": "markdown",
   "metadata": {},
   "source": [
    "join의 핵심은 `key`이다!\n",
    "\n",
    "```\n",
    "SELECT 컬럼1, 컬럼2, 컬럼3... FROM A테이블 AS A\n",
    "{INNER/LEFT/RIGHT/FULL OUTER} JOIN B테이블 AS B \n",
    "ON A.결합컬럼 = B.결합컬럼\n",
    "WHERE ~\n",
    "```"
   ]
  },
  {
   "cell_type": "code",
   "execution_count": 40,
   "metadata": {},
   "outputs": [
    {
     "name": "stdout",
     "output_type": "stream",
     "text": [
      "('101', '문강태', 'aaa', '악몽을 먹고 자란 소년')\n",
      "('102', '고문영', 'bbb', '좀비아이')\n",
      "('103', '문상태', 'ccc', '공룡백과사전')\n"
     ]
    }
   ],
   "source": [
    "for row in c.execute('SELECT A.*, B.도서명 FROM 대출내역 AS A INNER JOIN 도서명 AS B ON A.도서ID = B.도서ID'):\n",
    "    print(row)"
   ]
  },
  {
   "cell_type": "code",
   "execution_count": 41,
   "metadata": {},
   "outputs": [
    {
     "name": "stdout",
     "output_type": "stream",
     "text": [
      "('101', '문강태', 'aaa', '악몽을 먹고 자란 소년')\n",
      "('102', '고문영', 'bbb', '좀비아이')\n",
      "('102', '고문영', 'fff', None)\n",
      "('103', '문상태', 'ccc', '공룡백과사전')\n",
      "('104', '강기둥', None, None)\n"
     ]
    }
   ],
   "source": [
    "for row in c.execute('SELECT A.*, B.도서명 FROM 대출내역 AS A LEFT JOIN 도서명 AS B ON A.도서ID = B.도서ID'):\n",
    "    print(row)"
   ]
  },
  {
   "cell_type": "code",
   "execution_count": 42,
   "metadata": {},
   "outputs": [
    {
     "ename": "OperationalError",
     "evalue": "RIGHT and FULL OUTER JOINs are not currently supported",
     "output_type": "error",
     "traceback": [
      "\u001b[0;31m---------------------------------------------------------------------------\u001b[0m",
      "\u001b[0;31mOperationalError\u001b[0m                          Traceback (most recent call last)",
      "\u001b[0;32m<ipython-input-42-8f8ff001a834>\u001b[0m in \u001b[0;36m<module>\u001b[0;34m\u001b[0m\n\u001b[0;32m----> 1\u001b[0;31m \u001b[0;32mfor\u001b[0m \u001b[0mrow\u001b[0m \u001b[0;32min\u001b[0m \u001b[0mc\u001b[0m\u001b[0;34m.\u001b[0m\u001b[0mexecute\u001b[0m\u001b[0;34m(\u001b[0m\u001b[0;34m'SELECT A.*, B.도서명 FROM 대출내역 AS A RIGHT JOIN 도서명 AS B ON A.도서ID = B.도서ID'\u001b[0m\u001b[0;34m)\u001b[0m\u001b[0;34m:\u001b[0m\u001b[0;34m\u001b[0m\u001b[0;34m\u001b[0m\u001b[0m\n\u001b[0m\u001b[1;32m      2\u001b[0m     \u001b[0mprint\u001b[0m\u001b[0;34m(\u001b[0m\u001b[0mrow\u001b[0m\u001b[0;34m)\u001b[0m\u001b[0;34m\u001b[0m\u001b[0;34m\u001b[0m\u001b[0m\n",
      "\u001b[0;31mOperationalError\u001b[0m: RIGHT and FULL OUTER JOINs are not currently supported"
     ]
    }
   ],
   "source": [
    "for row in c.execute('SELECT A.*, B.도서명 FROM 대출내역 AS A RIGHT JOIN 도서명 AS B ON A.도서ID = B.도서ID'):\n",
    "    print(row)"
   ]
  },
  {
   "cell_type": "markdown",
   "metadata": {},
   "source": [
    "### Nested Query(중첩 질의)\n",
    "```\n",
    "SELECT C.이름, COUNT(*) 대출건수\n",
    "FROM (\n",
    "    SELECT A.*, B.도서명 \n",
    "    FROM 대출내역 AS A \n",
    "    LEFT JOIN 도서명 AS B\n",
    "    ON A.도서ID = B.도서ID ) C\n",
    "GROUP BY C.이름\n",
    "```"
   ]
  },
  {
   "cell_type": "code",
   "execution_count": 43,
   "metadata": {},
   "outputs": [
    {
     "name": "stdout",
     "output_type": "stream",
     "text": [
      "('강기둥', 1)\n",
      "('고문영', 2)\n",
      "('문강태', 1)\n",
      "('문상태', 1)\n"
     ]
    }
   ],
   "source": [
    "for row in c.execute('SELECT C.이름, COUNT(*) 대출건수 FROM (SELECT A.*, B.도서명 FROM 대출내역 AS A LEFT JOIN 도서명 AS B ON A.도서ID = B.도서ID ) C GROUP BY C.이름'):\n",
    "    print(row)"
   ]
  },
  {
   "cell_type": "markdown",
   "metadata": {},
   "source": [
    "### 쿼리 조건문\n",
    "1. IFNULL\n",
    "    ```\n",
    "    SELECT A.*, IFNULL(B.도서명, '도서명미상') AS 도서명\n",
    "    FROM 대출내역 AS A \n",
    "    LEFT JOIN 도서명 AS B\n",
    "    ON A.도서ID = B.도서ID\n",
    "    ```\n",
    "2. CASE\n",
    "    ```\n",
    "    SELECT 이름, CASE WHEN 대출일수_수정 > 5 THEN '기간초과' ELSE '기간내' END AS 대출기간\n",
    "    FROM (\n",
    "    SELECT *, CAST(SUBSTR(대출일수, 1, (length(대출일수)-1)) AS INT) AS 대출일수_수정 \n",
    "    FROM 도서대출내역2 )\n",
    "    ```"
   ]
  },
  {
   "cell_type": "code",
   "execution_count": null,
   "metadata": {},
   "outputs": [],
   "source": []
  }
 ],
 "metadata": {
  "kernelspec": {
   "display_name": "Python 3",
   "language": "python",
   "name": "python3"
  },
  "language_info": {
   "codemirror_mode": {
    "name": "ipython",
    "version": 3
   },
   "file_extension": ".py",
   "mimetype": "text/x-python",
   "name": "python",
   "nbconvert_exporter": "python",
   "pygments_lexer": "ipython3",
   "version": "3.7.9"
  }
 },
 "nbformat": 4,
 "nbformat_minor": 4
}
